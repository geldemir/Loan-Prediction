{
 "cells": [
  {
   "cell_type": "code",
   "execution_count": 64,
   "id": "a97101e1",
   "metadata": {},
   "outputs": [],
   "source": [
    "import pandas as pd\n",
    "import numpy as np\n",
    "import seaborn as sns"
   ]
  },
  {
   "cell_type": "code",
   "execution_count": 2,
   "id": "a7e5b434",
   "metadata": {},
   "outputs": [
    {
     "name": "stderr",
     "output_type": "stream",
     "text": [
      "C:\\Users\\Sarıkaya\\AppData\\Local\\Temp\\ipykernel_10208\\2404214177.py:1: DtypeWarning: Columns (16) have mixed types. Specify dtype option on import or set low_memory=False.\n",
      "  df=pd.read_csv(\"LoansTrainingSet.csv\")\n"
     ]
    }
   ],
   "source": [
    "df=pd.read_csv(\"LoansTrainingSet.csv\")"
   ]
  },
  {
   "cell_type": "code",
   "execution_count": 3,
   "id": "acb52751",
   "metadata": {},
   "outputs": [
    {
     "data": {
      "text/plain": [
       "(256984, 19)"
      ]
     },
     "execution_count": 3,
     "metadata": {},
     "output_type": "execute_result"
    }
   ],
   "source": [
    "df.shape"
   ]
  },
  {
   "cell_type": "code",
   "execution_count": 4,
   "id": "9b99be8d",
   "metadata": {
    "scrolled": true
   },
   "outputs": [
    {
     "data": {
      "text/html": [
       "<div>\n",
       "<style scoped>\n",
       "    .dataframe tbody tr th:only-of-type {\n",
       "        vertical-align: middle;\n",
       "    }\n",
       "\n",
       "    .dataframe tbody tr th {\n",
       "        vertical-align: top;\n",
       "    }\n",
       "\n",
       "    .dataframe thead th {\n",
       "        text-align: right;\n",
       "    }\n",
       "</style>\n",
       "<table border=\"1\" class=\"dataframe\">\n",
       "  <thead>\n",
       "    <tr style=\"text-align: right;\">\n",
       "      <th></th>\n",
       "      <th>Loan ID</th>\n",
       "      <th>Customer ID</th>\n",
       "      <th>Loan Status</th>\n",
       "      <th>Current Loan Amount</th>\n",
       "      <th>Term</th>\n",
       "      <th>Credit Score</th>\n",
       "      <th>Years in current job</th>\n",
       "      <th>Home Ownership</th>\n",
       "      <th>Annual Income</th>\n",
       "      <th>Purpose</th>\n",
       "      <th>Monthly Debt</th>\n",
       "      <th>Years of Credit History</th>\n",
       "      <th>Months since last delinquent</th>\n",
       "      <th>Number of Open Accounts</th>\n",
       "      <th>Number of Credit Problems</th>\n",
       "      <th>Current Credit Balance</th>\n",
       "      <th>Maximum Open Credit</th>\n",
       "      <th>Bankruptcies</th>\n",
       "      <th>Tax Liens</th>\n",
       "    </tr>\n",
       "  </thead>\n",
       "  <tbody>\n",
       "    <tr>\n",
       "      <th>1192</th>\n",
       "      <td>012f2a1c-faf4-46dd-a6c9-e4721989a9f1</td>\n",
       "      <td>34e8692a-c016-43c3-93ca-63e32afd9bc6</td>\n",
       "      <td>Fully Paid</td>\n",
       "      <td>10038</td>\n",
       "      <td>Short Term</td>\n",
       "      <td>NaN</td>\n",
       "      <td>10+ years</td>\n",
       "      <td>Home Mortgage</td>\n",
       "      <td>NaN</td>\n",
       "      <td>Debt Consolidation</td>\n",
       "      <td>$546.74</td>\n",
       "      <td>22.3</td>\n",
       "      <td>64.0</td>\n",
       "      <td>15</td>\n",
       "      <td>0</td>\n",
       "      <td>6797</td>\n",
       "      <td>28085</td>\n",
       "      <td>0.0</td>\n",
       "      <td>0.0</td>\n",
       "    </tr>\n",
       "  </tbody>\n",
       "</table>\n",
       "</div>"
      ],
      "text/plain": [
       "                                   Loan ID  \\\n",
       "1192  012f2a1c-faf4-46dd-a6c9-e4721989a9f1   \n",
       "\n",
       "                               Customer ID Loan Status  Current Loan Amount  \\\n",
       "1192  34e8692a-c016-43c3-93ca-63e32afd9bc6  Fully Paid                10038   \n",
       "\n",
       "            Term  Credit Score Years in current job Home Ownership  \\\n",
       "1192  Short Term           NaN            10+ years  Home Mortgage   \n",
       "\n",
       "      Annual Income             Purpose Monthly Debt  Years of Credit History  \\\n",
       "1192            NaN  Debt Consolidation      $546.74                     22.3   \n",
       "\n",
       "      Months since last delinquent  Number of Open Accounts  \\\n",
       "1192                          64.0                       15   \n",
       "\n",
       "      Number of Credit Problems  Current Credit Balance Maximum Open Credit  \\\n",
       "1192                          0                    6797               28085   \n",
       "\n",
       "      Bankruptcies  Tax Liens  \n",
       "1192           0.0        0.0  "
      ]
     },
     "execution_count": 4,
     "metadata": {},
     "output_type": "execute_result"
    }
   ],
   "source": [
    "df.sample()"
   ]
  },
  {
   "cell_type": "code",
   "execution_count": 5,
   "id": "418e58b7",
   "metadata": {
    "scrolled": true
   },
   "outputs": [
    {
     "data": {
      "text/html": [
       "<div>\n",
       "<style scoped>\n",
       "    .dataframe tbody tr th:only-of-type {\n",
       "        vertical-align: middle;\n",
       "    }\n",
       "\n",
       "    .dataframe tbody tr th {\n",
       "        vertical-align: top;\n",
       "    }\n",
       "\n",
       "    .dataframe thead th {\n",
       "        text-align: right;\n",
       "    }\n",
       "</style>\n",
       "<table border=\"1\" class=\"dataframe\">\n",
       "  <thead>\n",
       "    <tr style=\"text-align: right;\">\n",
       "      <th></th>\n",
       "      <th>Loan ID</th>\n",
       "      <th>Customer ID</th>\n",
       "      <th>Loan Status</th>\n",
       "      <th>Current Loan Amount</th>\n",
       "      <th>Term</th>\n",
       "      <th>Credit Score</th>\n",
       "      <th>Years in current job</th>\n",
       "      <th>Home Ownership</th>\n",
       "      <th>Annual Income</th>\n",
       "      <th>Purpose</th>\n",
       "      <th>Monthly Debt</th>\n",
       "      <th>Years of Credit History</th>\n",
       "      <th>Months since last delinquent</th>\n",
       "      <th>Number of Open Accounts</th>\n",
       "      <th>Number of Credit Problems</th>\n",
       "      <th>Current Credit Balance</th>\n",
       "      <th>Maximum Open Credit</th>\n",
       "      <th>Bankruptcies</th>\n",
       "      <th>Tax Liens</th>\n",
       "    </tr>\n",
       "  </thead>\n",
       "  <tbody>\n",
       "    <tr>\n",
       "      <th>0</th>\n",
       "      <td>000025bb-5694-4cff-b17d-192b1a98ba44</td>\n",
       "      <td>5ebc8bb1-5eb9-4404-b11b-a6eebc401a19</td>\n",
       "      <td>Fully Paid</td>\n",
       "      <td>11520</td>\n",
       "      <td>Short Term</td>\n",
       "      <td>741.0</td>\n",
       "      <td>10+ years</td>\n",
       "      <td>Home Mortgage</td>\n",
       "      <td>33694.0</td>\n",
       "      <td>Debt Consolidation</td>\n",
       "      <td>$584.03</td>\n",
       "      <td>12.3</td>\n",
       "      <td>41.0</td>\n",
       "      <td>10</td>\n",
       "      <td>0</td>\n",
       "      <td>6760</td>\n",
       "      <td>16056</td>\n",
       "      <td>0.0</td>\n",
       "      <td>0.0</td>\n",
       "    </tr>\n",
       "    <tr>\n",
       "      <th>1</th>\n",
       "      <td>00002c49-3a29-4bd4-8f67-c8f8fbc1048c</td>\n",
       "      <td>927b388d-2e01-423f-a8dc-f7e42d668f46</td>\n",
       "      <td>Fully Paid</td>\n",
       "      <td>3441</td>\n",
       "      <td>Short Term</td>\n",
       "      <td>734.0</td>\n",
       "      <td>4 years</td>\n",
       "      <td>Home Mortgage</td>\n",
       "      <td>42269.0</td>\n",
       "      <td>other</td>\n",
       "      <td>$1,106.04</td>\n",
       "      <td>26.3</td>\n",
       "      <td>NaN</td>\n",
       "      <td>17</td>\n",
       "      <td>0</td>\n",
       "      <td>6262</td>\n",
       "      <td>19149</td>\n",
       "      <td>0.0</td>\n",
       "      <td>0.0</td>\n",
       "    </tr>\n",
       "    <tr>\n",
       "      <th>2</th>\n",
       "      <td>00002d89-27f3-409b-aa76-90834f359a65</td>\n",
       "      <td>defce609-c631-447d-aad6-1270615e89c4</td>\n",
       "      <td>Fully Paid</td>\n",
       "      <td>21029</td>\n",
       "      <td>Short Term</td>\n",
       "      <td>747.0</td>\n",
       "      <td>10+ years</td>\n",
       "      <td>Home Mortgage</td>\n",
       "      <td>90126.0</td>\n",
       "      <td>Debt Consolidation</td>\n",
       "      <td>$1,321.85</td>\n",
       "      <td>28.8</td>\n",
       "      <td>NaN</td>\n",
       "      <td>5</td>\n",
       "      <td>0</td>\n",
       "      <td>20967</td>\n",
       "      <td>28335</td>\n",
       "      <td>0.0</td>\n",
       "      <td>0.0</td>\n",
       "    </tr>\n",
       "    <tr>\n",
       "      <th>3</th>\n",
       "      <td>00005222-b4d8-45a4-ad8c-186057e24233</td>\n",
       "      <td>070bcecb-aae7-4485-a26a-e0403e7bb6c5</td>\n",
       "      <td>Fully Paid</td>\n",
       "      <td>18743</td>\n",
       "      <td>Short Term</td>\n",
       "      <td>747.0</td>\n",
       "      <td>10+ years</td>\n",
       "      <td>Own Home</td>\n",
       "      <td>38072.0</td>\n",
       "      <td>Debt Consolidation</td>\n",
       "      <td>$751.92</td>\n",
       "      <td>26.2</td>\n",
       "      <td>NaN</td>\n",
       "      <td>9</td>\n",
       "      <td>0</td>\n",
       "      <td>22529</td>\n",
       "      <td>43915</td>\n",
       "      <td>0.0</td>\n",
       "      <td>0.0</td>\n",
       "    </tr>\n",
       "    <tr>\n",
       "      <th>4</th>\n",
       "      <td>0000757f-a121-41ed-b17b-162e76647c1f</td>\n",
       "      <td>dde79588-12f0-4811-bab0-e2b07f633fcd</td>\n",
       "      <td>Fully Paid</td>\n",
       "      <td>11731</td>\n",
       "      <td>Short Term</td>\n",
       "      <td>746.0</td>\n",
       "      <td>4 years</td>\n",
       "      <td>Rent</td>\n",
       "      <td>50025.0</td>\n",
       "      <td>Debt Consolidation</td>\n",
       "      <td>$355.18</td>\n",
       "      <td>11.5</td>\n",
       "      <td>NaN</td>\n",
       "      <td>12</td>\n",
       "      <td>0</td>\n",
       "      <td>17391</td>\n",
       "      <td>37081</td>\n",
       "      <td>0.0</td>\n",
       "      <td>0.0</td>\n",
       "    </tr>\n",
       "  </tbody>\n",
       "</table>\n",
       "</div>"
      ],
      "text/plain": [
       "                                Loan ID                           Customer ID  \\\n",
       "0  000025bb-5694-4cff-b17d-192b1a98ba44  5ebc8bb1-5eb9-4404-b11b-a6eebc401a19   \n",
       "1  00002c49-3a29-4bd4-8f67-c8f8fbc1048c  927b388d-2e01-423f-a8dc-f7e42d668f46   \n",
       "2  00002d89-27f3-409b-aa76-90834f359a65  defce609-c631-447d-aad6-1270615e89c4   \n",
       "3  00005222-b4d8-45a4-ad8c-186057e24233  070bcecb-aae7-4485-a26a-e0403e7bb6c5   \n",
       "4  0000757f-a121-41ed-b17b-162e76647c1f  dde79588-12f0-4811-bab0-e2b07f633fcd   \n",
       "\n",
       "  Loan Status  Current Loan Amount        Term  Credit Score  \\\n",
       "0  Fully Paid                11520  Short Term         741.0   \n",
       "1  Fully Paid                 3441  Short Term         734.0   \n",
       "2  Fully Paid                21029  Short Term         747.0   \n",
       "3  Fully Paid                18743  Short Term         747.0   \n",
       "4  Fully Paid                11731  Short Term         746.0   \n",
       "\n",
       "  Years in current job Home Ownership  Annual Income             Purpose  \\\n",
       "0            10+ years  Home Mortgage        33694.0  Debt Consolidation   \n",
       "1              4 years  Home Mortgage        42269.0               other   \n",
       "2            10+ years  Home Mortgage        90126.0  Debt Consolidation   \n",
       "3            10+ years       Own Home        38072.0  Debt Consolidation   \n",
       "4              4 years           Rent        50025.0  Debt Consolidation   \n",
       "\n",
       "  Monthly Debt  Years of Credit History  Months since last delinquent  \\\n",
       "0      $584.03                     12.3                          41.0   \n",
       "1   $1,106.04                      26.3                           NaN   \n",
       "2   $1,321.85                      28.8                           NaN   \n",
       "3      $751.92                     26.2                           NaN   \n",
       "4      $355.18                     11.5                           NaN   \n",
       "\n",
       "   Number of Open Accounts  Number of Credit Problems  Current Credit Balance  \\\n",
       "0                       10                          0                    6760   \n",
       "1                       17                          0                    6262   \n",
       "2                        5                          0                   20967   \n",
       "3                        9                          0                   22529   \n",
       "4                       12                          0                   17391   \n",
       "\n",
       "  Maximum Open Credit  Bankruptcies  Tax Liens  \n",
       "0               16056           0.0        0.0  \n",
       "1               19149           0.0        0.0  \n",
       "2               28335           0.0        0.0  \n",
       "3               43915           0.0        0.0  \n",
       "4               37081           0.0        0.0  "
      ]
     },
     "execution_count": 5,
     "metadata": {},
     "output_type": "execute_result"
    }
   ],
   "source": [
    "df.head()"
   ]
  },
  {
   "cell_type": "code",
   "execution_count": 71,
   "id": "9ba5adfd",
   "metadata": {},
   "outputs": [
    {
     "data": {
      "text/html": [
       "<div>\n",
       "<style scoped>\n",
       "    .dataframe tbody tr th:only-of-type {\n",
       "        vertical-align: middle;\n",
       "    }\n",
       "\n",
       "    .dataframe tbody tr th {\n",
       "        vertical-align: top;\n",
       "    }\n",
       "\n",
       "    .dataframe thead th {\n",
       "        text-align: right;\n",
       "    }\n",
       "</style>\n",
       "<table border=\"1\" class=\"dataframe\">\n",
       "  <thead>\n",
       "    <tr style=\"text-align: right;\">\n",
       "      <th></th>\n",
       "      <th>Loan Status</th>\n",
       "      <th>Current Loan Amount</th>\n",
       "      <th>Term</th>\n",
       "      <th>Credit Score</th>\n",
       "      <th>Years in current job</th>\n",
       "      <th>Home Ownership</th>\n",
       "      <th>Annual Income</th>\n",
       "      <th>Purpose</th>\n",
       "      <th>Monthly Debt</th>\n",
       "      <th>Years of Credit History</th>\n",
       "      <th>Months since last delinquent</th>\n",
       "      <th>Number of Open Accounts</th>\n",
       "      <th>Number of Credit Problems</th>\n",
       "      <th>Current Credit Balance</th>\n",
       "      <th>Maximum Open Credit</th>\n",
       "      <th>Bankruptcies</th>\n",
       "      <th>Tax Liens</th>\n",
       "    </tr>\n",
       "  </thead>\n",
       "  <tbody>\n",
       "    <tr>\n",
       "      <th>32324</th>\n",
       "      <td>1</td>\n",
       "      <td>14642.0</td>\n",
       "      <td>Short Term</td>\n",
       "      <td>747.000000</td>\n",
       "      <td>8.0</td>\n",
       "      <td>Rent</td>\n",
       "      <td>37384.000000</td>\n",
       "      <td>Debt Consolidation</td>\n",
       "      <td>137.70</td>\n",
       "      <td>14.1</td>\n",
       "      <td>31.722347</td>\n",
       "      <td>5</td>\n",
       "      <td>0</td>\n",
       "      <td>4243</td>\n",
       "      <td>21005.0</td>\n",
       "      <td>0.0</td>\n",
       "      <td>0.0</td>\n",
       "    </tr>\n",
       "    <tr>\n",
       "      <th>56621</th>\n",
       "      <td>1</td>\n",
       "      <td>2088.0</td>\n",
       "      <td>Short Term</td>\n",
       "      <td>748.000000</td>\n",
       "      <td>5.0</td>\n",
       "      <td>Rent</td>\n",
       "      <td>25849.000000</td>\n",
       "      <td>Buy a Car</td>\n",
       "      <td>49.76</td>\n",
       "      <td>12.8</td>\n",
       "      <td>25.983739</td>\n",
       "      <td>3</td>\n",
       "      <td>0</td>\n",
       "      <td>1108</td>\n",
       "      <td>2289.0</td>\n",
       "      <td>0.0</td>\n",
       "      <td>0.0</td>\n",
       "    </tr>\n",
       "    <tr>\n",
       "      <th>7721</th>\n",
       "      <td>1</td>\n",
       "      <td>14642.0</td>\n",
       "      <td>Long Term</td>\n",
       "      <td>722.000000</td>\n",
       "      <td>2.0</td>\n",
       "      <td>Home Mortgage</td>\n",
       "      <td>61696.000000</td>\n",
       "      <td>Buy House</td>\n",
       "      <td>1048.31</td>\n",
       "      <td>14.5</td>\n",
       "      <td>32.294888</td>\n",
       "      <td>9</td>\n",
       "      <td>0</td>\n",
       "      <td>2950</td>\n",
       "      <td>36871.0</td>\n",
       "      <td>0.0</td>\n",
       "      <td>0.0</td>\n",
       "    </tr>\n",
       "    <tr>\n",
       "      <th>28207</th>\n",
       "      <td>1</td>\n",
       "      <td>34689.0</td>\n",
       "      <td>Short Term</td>\n",
       "      <td>719.000000</td>\n",
       "      <td>10.0</td>\n",
       "      <td>Home Mortgage</td>\n",
       "      <td>297330.000000</td>\n",
       "      <td>Debt Consolidation</td>\n",
       "      <td>4806.84</td>\n",
       "      <td>15.0</td>\n",
       "      <td>39.127318</td>\n",
       "      <td>24</td>\n",
       "      <td>0</td>\n",
       "      <td>70019</td>\n",
       "      <td>90699.0</td>\n",
       "      <td>0.0</td>\n",
       "      <td>0.0</td>\n",
       "    </tr>\n",
       "    <tr>\n",
       "      <th>192766</th>\n",
       "      <td>1</td>\n",
       "      <td>34782.0</td>\n",
       "      <td>Long Term</td>\n",
       "      <td>700.731317</td>\n",
       "      <td>1.0</td>\n",
       "      <td>Home Mortgage</td>\n",
       "      <td>95644.440076</td>\n",
       "      <td>Home Improvements</td>\n",
       "      <td>1515.40</td>\n",
       "      <td>11.4</td>\n",
       "      <td>41.611193</td>\n",
       "      <td>16</td>\n",
       "      <td>0</td>\n",
       "      <td>9967</td>\n",
       "      <td>61908.0</td>\n",
       "      <td>0.0</td>\n",
       "      <td>0.0</td>\n",
       "    </tr>\n",
       "    <tr>\n",
       "      <th>60333</th>\n",
       "      <td>1</td>\n",
       "      <td>23748.0</td>\n",
       "      <td>Short Term</td>\n",
       "      <td>728.181405</td>\n",
       "      <td>7.0</td>\n",
       "      <td>Home Mortgage</td>\n",
       "      <td>77266.464691</td>\n",
       "      <td>Debt Consolidation</td>\n",
       "      <td>650.10</td>\n",
       "      <td>25.9</td>\n",
       "      <td>33.364574</td>\n",
       "      <td>15</td>\n",
       "      <td>0</td>\n",
       "      <td>24757</td>\n",
       "      <td>41962.0</td>\n",
       "      <td>0.0</td>\n",
       "      <td>0.0</td>\n",
       "    </tr>\n",
       "    <tr>\n",
       "      <th>128254</th>\n",
       "      <td>0</td>\n",
       "      <td>7077.0</td>\n",
       "      <td>Short Term</td>\n",
       "      <td>740.000000</td>\n",
       "      <td>3.0</td>\n",
       "      <td>Home Mortgage</td>\n",
       "      <td>47179.000000</td>\n",
       "      <td>Debt Consolidation</td>\n",
       "      <td>1336.74</td>\n",
       "      <td>12.9</td>\n",
       "      <td>5.000000</td>\n",
       "      <td>11</td>\n",
       "      <td>0</td>\n",
       "      <td>16689</td>\n",
       "      <td>18879.0</td>\n",
       "      <td>0.0</td>\n",
       "      <td>0.0</td>\n",
       "    </tr>\n",
       "    <tr>\n",
       "      <th>222849</th>\n",
       "      <td>1</td>\n",
       "      <td>6973.0</td>\n",
       "      <td>Short Term</td>\n",
       "      <td>733.000000</td>\n",
       "      <td>8.0</td>\n",
       "      <td>Rent</td>\n",
       "      <td>34565.000000</td>\n",
       "      <td>Other</td>\n",
       "      <td>351.40</td>\n",
       "      <td>11.4</td>\n",
       "      <td>22.000000</td>\n",
       "      <td>5</td>\n",
       "      <td>0</td>\n",
       "      <td>1410</td>\n",
       "      <td>4381.0</td>\n",
       "      <td>0.0</td>\n",
       "      <td>0.0</td>\n",
       "    </tr>\n",
       "    <tr>\n",
       "      <th>79276</th>\n",
       "      <td>1</td>\n",
       "      <td>11705.0</td>\n",
       "      <td>Short Term</td>\n",
       "      <td>733.000000</td>\n",
       "      <td>2.0</td>\n",
       "      <td>Rent</td>\n",
       "      <td>64121.000000</td>\n",
       "      <td>Debt Consolidation</td>\n",
       "      <td>523.13</td>\n",
       "      <td>16.9</td>\n",
       "      <td>45.920096</td>\n",
       "      <td>11</td>\n",
       "      <td>1</td>\n",
       "      <td>5331</td>\n",
       "      <td>15146.0</td>\n",
       "      <td>0.0</td>\n",
       "      <td>0.0</td>\n",
       "    </tr>\n",
       "    <tr>\n",
       "      <th>45851</th>\n",
       "      <td>1</td>\n",
       "      <td>12701.0</td>\n",
       "      <td>Long Term</td>\n",
       "      <td>721.258189</td>\n",
       "      <td>10.0</td>\n",
       "      <td>Home Mortgage</td>\n",
       "      <td>48968.452256</td>\n",
       "      <td>Debt Consolidation</td>\n",
       "      <td>426.50</td>\n",
       "      <td>14.0</td>\n",
       "      <td>37.451264</td>\n",
       "      <td>11</td>\n",
       "      <td>1</td>\n",
       "      <td>5564</td>\n",
       "      <td>18735.0</td>\n",
       "      <td>1.0</td>\n",
       "      <td>0.0</td>\n",
       "    </tr>\n",
       "    <tr>\n",
       "      <th>131154</th>\n",
       "      <td>1</td>\n",
       "      <td>3002.0</td>\n",
       "      <td>Short Term</td>\n",
       "      <td>727.991341</td>\n",
       "      <td>3.0</td>\n",
       "      <td>Rent</td>\n",
       "      <td>49787.194546</td>\n",
       "      <td>Debt Consolidation</td>\n",
       "      <td>822.99</td>\n",
       "      <td>11.8</td>\n",
       "      <td>32.774772</td>\n",
       "      <td>14</td>\n",
       "      <td>0</td>\n",
       "      <td>577</td>\n",
       "      <td>14434.0</td>\n",
       "      <td>0.0</td>\n",
       "      <td>0.0</td>\n",
       "    </tr>\n",
       "    <tr>\n",
       "      <th>189461</th>\n",
       "      <td>0</td>\n",
       "      <td>16192.0</td>\n",
       "      <td>Long Term</td>\n",
       "      <td>721.223855</td>\n",
       "      <td>10.0</td>\n",
       "      <td>Home Mortgage</td>\n",
       "      <td>63206.608796</td>\n",
       "      <td>Debt Consolidation</td>\n",
       "      <td>755.63</td>\n",
       "      <td>16.9</td>\n",
       "      <td>40.385346</td>\n",
       "      <td>14</td>\n",
       "      <td>1</td>\n",
       "      <td>13166</td>\n",
       "      <td>29720.0</td>\n",
       "      <td>1.0</td>\n",
       "      <td>0.0</td>\n",
       "    </tr>\n",
       "    <tr>\n",
       "      <th>180237</th>\n",
       "      <td>1</td>\n",
       "      <td>15473.0</td>\n",
       "      <td>Short Term</td>\n",
       "      <td>724.000000</td>\n",
       "      <td>9.0</td>\n",
       "      <td>Own Home</td>\n",
       "      <td>33670.000000</td>\n",
       "      <td>Debt Consolidation</td>\n",
       "      <td>477.00</td>\n",
       "      <td>8.0</td>\n",
       "      <td>27.313372</td>\n",
       "      <td>8</td>\n",
       "      <td>0</td>\n",
       "      <td>40591</td>\n",
       "      <td>335466.0</td>\n",
       "      <td>0.0</td>\n",
       "      <td>0.0</td>\n",
       "    </tr>\n",
       "    <tr>\n",
       "      <th>154840</th>\n",
       "      <td>1</td>\n",
       "      <td>4953.0</td>\n",
       "      <td>Short Term</td>\n",
       "      <td>746.000000</td>\n",
       "      <td>8.0</td>\n",
       "      <td>Rent</td>\n",
       "      <td>32687.000000</td>\n",
       "      <td>Debt Consolidation</td>\n",
       "      <td>520.26</td>\n",
       "      <td>10.9</td>\n",
       "      <td>5.000000</td>\n",
       "      <td>12</td>\n",
       "      <td>1</td>\n",
       "      <td>5734</td>\n",
       "      <td>10406.0</td>\n",
       "      <td>0.0</td>\n",
       "      <td>1.0</td>\n",
       "    </tr>\n",
       "    <tr>\n",
       "      <th>22674</th>\n",
       "      <td>1</td>\n",
       "      <td>25503.0</td>\n",
       "      <td>Long Term</td>\n",
       "      <td>708.651767</td>\n",
       "      <td>1.0</td>\n",
       "      <td>Rent</td>\n",
       "      <td>89574.167896</td>\n",
       "      <td>Debt Consolidation</td>\n",
       "      <td>1206.51</td>\n",
       "      <td>17.4</td>\n",
       "      <td>34.021071</td>\n",
       "      <td>15</td>\n",
       "      <td>0</td>\n",
       "      <td>16889</td>\n",
       "      <td>28626.0</td>\n",
       "      <td>0.0</td>\n",
       "      <td>0.0</td>\n",
       "    </tr>\n",
       "    <tr>\n",
       "      <th>134829</th>\n",
       "      <td>1</td>\n",
       "      <td>7839.0</td>\n",
       "      <td>Short Term</td>\n",
       "      <td>730.356857</td>\n",
       "      <td>10.0</td>\n",
       "      <td>Home Mortgage</td>\n",
       "      <td>112849.522588</td>\n",
       "      <td>Debt Consolidation</td>\n",
       "      <td>1996.55</td>\n",
       "      <td>21.0</td>\n",
       "      <td>33.231848</td>\n",
       "      <td>18</td>\n",
       "      <td>0</td>\n",
       "      <td>28063</td>\n",
       "      <td>42264.0</td>\n",
       "      <td>0.0</td>\n",
       "      <td>0.0</td>\n",
       "    </tr>\n",
       "    <tr>\n",
       "      <th>164363</th>\n",
       "      <td>1</td>\n",
       "      <td>28343.0</td>\n",
       "      <td>Short Term</td>\n",
       "      <td>716.000000</td>\n",
       "      <td>3.0</td>\n",
       "      <td>Rent</td>\n",
       "      <td>71302.000000</td>\n",
       "      <td>Debt Consolidation</td>\n",
       "      <td>1134.89</td>\n",
       "      <td>12.0</td>\n",
       "      <td>38.269221</td>\n",
       "      <td>13</td>\n",
       "      <td>0</td>\n",
       "      <td>20014</td>\n",
       "      <td>21994.0</td>\n",
       "      <td>0.0</td>\n",
       "      <td>0.0</td>\n",
       "    </tr>\n",
       "    <tr>\n",
       "      <th>25754</th>\n",
       "      <td>1</td>\n",
       "      <td>9790.0</td>\n",
       "      <td>Short Term</td>\n",
       "      <td>728.259032</td>\n",
       "      <td>2.0</td>\n",
       "      <td>Home Mortgage</td>\n",
       "      <td>67568.461803</td>\n",
       "      <td>Debt Consolidation</td>\n",
       "      <td>1218.37</td>\n",
       "      <td>13.8</td>\n",
       "      <td>37.682833</td>\n",
       "      <td>11</td>\n",
       "      <td>0</td>\n",
       "      <td>38348</td>\n",
       "      <td>41593.0</td>\n",
       "      <td>0.0</td>\n",
       "      <td>0.0</td>\n",
       "    </tr>\n",
       "    <tr>\n",
       "      <th>174943</th>\n",
       "      <td>1</td>\n",
       "      <td>4134.0</td>\n",
       "      <td>Short Term</td>\n",
       "      <td>715.000000</td>\n",
       "      <td>1.0</td>\n",
       "      <td>Rent</td>\n",
       "      <td>74799.000000</td>\n",
       "      <td>Educational Expenses</td>\n",
       "      <td>953.69</td>\n",
       "      <td>17.5</td>\n",
       "      <td>33.937089</td>\n",
       "      <td>11</td>\n",
       "      <td>0</td>\n",
       "      <td>15332</td>\n",
       "      <td>16830.0</td>\n",
       "      <td>0.0</td>\n",
       "      <td>0.0</td>\n",
       "    </tr>\n",
       "    <tr>\n",
       "      <th>5000</th>\n",
       "      <td>1</td>\n",
       "      <td>12522.0</td>\n",
       "      <td>Long Term</td>\n",
       "      <td>667.000000</td>\n",
       "      <td>1.0</td>\n",
       "      <td>Own Home</td>\n",
       "      <td>50888.000000</td>\n",
       "      <td>Debt Consolidation</td>\n",
       "      <td>259.53</td>\n",
       "      <td>13.6</td>\n",
       "      <td>8.000000</td>\n",
       "      <td>5</td>\n",
       "      <td>1</td>\n",
       "      <td>1764</td>\n",
       "      <td>4191.0</td>\n",
       "      <td>0.0</td>\n",
       "      <td>1.0</td>\n",
       "    </tr>\n",
       "    <tr>\n",
       "      <th>9375</th>\n",
       "      <td>1</td>\n",
       "      <td>14407.0</td>\n",
       "      <td>Short Term</td>\n",
       "      <td>729.269720</td>\n",
       "      <td>10.0</td>\n",
       "      <td>Home Mortgage</td>\n",
       "      <td>107992.426105</td>\n",
       "      <td>Home Improvements</td>\n",
       "      <td>1800.90</td>\n",
       "      <td>26.4</td>\n",
       "      <td>12.000000</td>\n",
       "      <td>14</td>\n",
       "      <td>0</td>\n",
       "      <td>11542</td>\n",
       "      <td>25995.0</td>\n",
       "      <td>0.0</td>\n",
       "      <td>0.0</td>\n",
       "    </tr>\n",
       "    <tr>\n",
       "      <th>231579</th>\n",
       "      <td>1</td>\n",
       "      <td>15302.0</td>\n",
       "      <td>Short Term</td>\n",
       "      <td>712.000000</td>\n",
       "      <td>10.0</td>\n",
       "      <td>Rent</td>\n",
       "      <td>96910.000000</td>\n",
       "      <td>Debt Consolidation</td>\n",
       "      <td>1380.96</td>\n",
       "      <td>20.3</td>\n",
       "      <td>47.000000</td>\n",
       "      <td>21</td>\n",
       "      <td>0</td>\n",
       "      <td>22691</td>\n",
       "      <td>34696.0</td>\n",
       "      <td>0.0</td>\n",
       "      <td>0.0</td>\n",
       "    </tr>\n",
       "    <tr>\n",
       "      <th>180927</th>\n",
       "      <td>1</td>\n",
       "      <td>20262.0</td>\n",
       "      <td>Short Term</td>\n",
       "      <td>749.000000</td>\n",
       "      <td>10.0</td>\n",
       "      <td>Rent</td>\n",
       "      <td>68891.000000</td>\n",
       "      <td>Debt Consolidation</td>\n",
       "      <td>930.03</td>\n",
       "      <td>38.1</td>\n",
       "      <td>33.506762</td>\n",
       "      <td>8</td>\n",
       "      <td>0</td>\n",
       "      <td>18946</td>\n",
       "      <td>30508.0</td>\n",
       "      <td>0.0</td>\n",
       "      <td>0.0</td>\n",
       "    </tr>\n",
       "    <tr>\n",
       "      <th>49639</th>\n",
       "      <td>0</td>\n",
       "      <td>18177.0</td>\n",
       "      <td>Short Term</td>\n",
       "      <td>731.034792</td>\n",
       "      <td>7.0</td>\n",
       "      <td>Rent</td>\n",
       "      <td>68574.651894</td>\n",
       "      <td>Debt Consolidation</td>\n",
       "      <td>959.36</td>\n",
       "      <td>20.4</td>\n",
       "      <td>31.401197</td>\n",
       "      <td>40</td>\n",
       "      <td>0</td>\n",
       "      <td>23929</td>\n",
       "      <td>34629.0</td>\n",
       "      <td>0.0</td>\n",
       "      <td>0.0</td>\n",
       "    </tr>\n",
       "    <tr>\n",
       "      <th>1915</th>\n",
       "      <td>0</td>\n",
       "      <td>27964.0</td>\n",
       "      <td>Short Term</td>\n",
       "      <td>701.905510</td>\n",
       "      <td>6.0</td>\n",
       "      <td>Home Mortgage</td>\n",
       "      <td>156967.583013</td>\n",
       "      <td>Debt Consolidation</td>\n",
       "      <td>2632.21</td>\n",
       "      <td>36.7</td>\n",
       "      <td>10.000000</td>\n",
       "      <td>16</td>\n",
       "      <td>0</td>\n",
       "      <td>35064</td>\n",
       "      <td>42761.0</td>\n",
       "      <td>0.0</td>\n",
       "      <td>0.0</td>\n",
       "    </tr>\n",
       "    <tr>\n",
       "      <th>212283</th>\n",
       "      <td>1</td>\n",
       "      <td>10852.0</td>\n",
       "      <td>Short Term</td>\n",
       "      <td>725.000000</td>\n",
       "      <td>4.0</td>\n",
       "      <td>Rent</td>\n",
       "      <td>60852.000000</td>\n",
       "      <td>Debt Consolidation</td>\n",
       "      <td>917.85</td>\n",
       "      <td>28.8</td>\n",
       "      <td>41.852952</td>\n",
       "      <td>9</td>\n",
       "      <td>0</td>\n",
       "      <td>8482</td>\n",
       "      <td>9783.0</td>\n",
       "      <td>0.0</td>\n",
       "      <td>0.0</td>\n",
       "    </tr>\n",
       "    <tr>\n",
       "      <th>113558</th>\n",
       "      <td>1</td>\n",
       "      <td>6122.0</td>\n",
       "      <td>Short Term</td>\n",
       "      <td>720.003150</td>\n",
       "      <td>1.0</td>\n",
       "      <td>Rent</td>\n",
       "      <td>36983.725341</td>\n",
       "      <td>Debt Consolidation</td>\n",
       "      <td>322.49</td>\n",
       "      <td>9.0</td>\n",
       "      <td>40.000000</td>\n",
       "      <td>8</td>\n",
       "      <td>1</td>\n",
       "      <td>6122</td>\n",
       "      <td>13883.0</td>\n",
       "      <td>1.0</td>\n",
       "      <td>0.0</td>\n",
       "    </tr>\n",
       "    <tr>\n",
       "      <th>231243</th>\n",
       "      <td>1</td>\n",
       "      <td>14085.0</td>\n",
       "      <td>Short Term</td>\n",
       "      <td>724.223071</td>\n",
       "      <td>1.0</td>\n",
       "      <td>Rent</td>\n",
       "      <td>47306.888624</td>\n",
       "      <td>Debt Consolidation</td>\n",
       "      <td>626.58</td>\n",
       "      <td>11.1</td>\n",
       "      <td>31.000000</td>\n",
       "      <td>9</td>\n",
       "      <td>0</td>\n",
       "      <td>5363</td>\n",
       "      <td>11172.0</td>\n",
       "      <td>0.0</td>\n",
       "      <td>0.0</td>\n",
       "    </tr>\n",
       "    <tr>\n",
       "      <th>87874</th>\n",
       "      <td>0</td>\n",
       "      <td>18268.0</td>\n",
       "      <td>Long Term</td>\n",
       "      <td>721.901143</td>\n",
       "      <td>4.0</td>\n",
       "      <td>Home Mortgage</td>\n",
       "      <td>53616.984134</td>\n",
       "      <td>Debt Consolidation</td>\n",
       "      <td>594.26</td>\n",
       "      <td>15.3</td>\n",
       "      <td>37.515846</td>\n",
       "      <td>10</td>\n",
       "      <td>0</td>\n",
       "      <td>7520</td>\n",
       "      <td>22313.0</td>\n",
       "      <td>0.0</td>\n",
       "      <td>0.0</td>\n",
       "    </tr>\n",
       "    <tr>\n",
       "      <th>42391</th>\n",
       "      <td>1</td>\n",
       "      <td>28451.0</td>\n",
       "      <td>Short Term</td>\n",
       "      <td>729.000000</td>\n",
       "      <td>4.0</td>\n",
       "      <td>Rent</td>\n",
       "      <td>130061.000000</td>\n",
       "      <td>Debt Consolidation</td>\n",
       "      <td>1658.28</td>\n",
       "      <td>20.7</td>\n",
       "      <td>34.836431</td>\n",
       "      <td>10</td>\n",
       "      <td>0</td>\n",
       "      <td>23024</td>\n",
       "      <td>28354.0</td>\n",
       "      <td>0.0</td>\n",
       "      <td>0.0</td>\n",
       "    </tr>\n",
       "    <tr>\n",
       "      <th>201110</th>\n",
       "      <td>1</td>\n",
       "      <td>15872.0</td>\n",
       "      <td>Long Term</td>\n",
       "      <td>744.000000</td>\n",
       "      <td>1.0</td>\n",
       "      <td>Home Mortgage</td>\n",
       "      <td>79360.000000</td>\n",
       "      <td>Home Improvements</td>\n",
       "      <td>667.94</td>\n",
       "      <td>13.0</td>\n",
       "      <td>21.000000</td>\n",
       "      <td>9</td>\n",
       "      <td>0</td>\n",
       "      <td>8593</td>\n",
       "      <td>38706.0</td>\n",
       "      <td>0.0</td>\n",
       "      <td>0.0</td>\n",
       "    </tr>\n",
       "    <tr>\n",
       "      <th>109642</th>\n",
       "      <td>1</td>\n",
       "      <td>14642.0</td>\n",
       "      <td>Short Term</td>\n",
       "      <td>747.000000</td>\n",
       "      <td>5.0</td>\n",
       "      <td>Home Mortgage</td>\n",
       "      <td>60215.000000</td>\n",
       "      <td>Debt Consolidation</td>\n",
       "      <td>484.73</td>\n",
       "      <td>19.3</td>\n",
       "      <td>35.055298</td>\n",
       "      <td>14</td>\n",
       "      <td>0</td>\n",
       "      <td>28306</td>\n",
       "      <td>73143.0</td>\n",
       "      <td>0.0</td>\n",
       "      <td>0.0</td>\n",
       "    </tr>\n",
       "    <tr>\n",
       "      <th>157059</th>\n",
       "      <td>1</td>\n",
       "      <td>5064.0</td>\n",
       "      <td>Long Term</td>\n",
       "      <td>718.549055</td>\n",
       "      <td>1.0</td>\n",
       "      <td>Rent</td>\n",
       "      <td>34183.128066</td>\n",
       "      <td>Debt Consolidation</td>\n",
       "      <td>302.75</td>\n",
       "      <td>9.0</td>\n",
       "      <td>30.820031</td>\n",
       "      <td>5</td>\n",
       "      <td>0</td>\n",
       "      <td>2259</td>\n",
       "      <td>2786.0</td>\n",
       "      <td>0.0</td>\n",
       "      <td>0.0</td>\n",
       "    </tr>\n",
       "    <tr>\n",
       "      <th>20731</th>\n",
       "      <td>1</td>\n",
       "      <td>14642.0</td>\n",
       "      <td>Short Term</td>\n",
       "      <td>747.000000</td>\n",
       "      <td>10.0</td>\n",
       "      <td>Home Mortgage</td>\n",
       "      <td>96000.000000</td>\n",
       "      <td>Debt Consolidation</td>\n",
       "      <td>808.00</td>\n",
       "      <td>21.6</td>\n",
       "      <td>36.584872</td>\n",
       "      <td>9</td>\n",
       "      <td>0</td>\n",
       "      <td>23986</td>\n",
       "      <td>40313.0</td>\n",
       "      <td>0.0</td>\n",
       "      <td>0.0</td>\n",
       "    </tr>\n",
       "    <tr>\n",
       "      <th>189882</th>\n",
       "      <td>0</td>\n",
       "      <td>20200.0</td>\n",
       "      <td>Long Term</td>\n",
       "      <td>633.000000</td>\n",
       "      <td>10.0</td>\n",
       "      <td>Home Mortgage</td>\n",
       "      <td>68125.000000</td>\n",
       "      <td>Home Improvements</td>\n",
       "      <td>789.11</td>\n",
       "      <td>30.8</td>\n",
       "      <td>37.996158</td>\n",
       "      <td>9</td>\n",
       "      <td>1</td>\n",
       "      <td>5936</td>\n",
       "      <td>8480.0</td>\n",
       "      <td>1.0</td>\n",
       "      <td>0.0</td>\n",
       "    </tr>\n",
       "    <tr>\n",
       "      <th>206312</th>\n",
       "      <td>1</td>\n",
       "      <td>14829.0</td>\n",
       "      <td>Short Term</td>\n",
       "      <td>741.000000</td>\n",
       "      <td>7.0</td>\n",
       "      <td>Home Mortgage</td>\n",
       "      <td>86008.000000</td>\n",
       "      <td>Business Loan</td>\n",
       "      <td>860.80</td>\n",
       "      <td>59.9</td>\n",
       "      <td>46.515403</td>\n",
       "      <td>9</td>\n",
       "      <td>1</td>\n",
       "      <td>4558</td>\n",
       "      <td>9596.0</td>\n",
       "      <td>1.0</td>\n",
       "      <td>0.0</td>\n",
       "    </tr>\n",
       "    <tr>\n",
       "      <th>233481</th>\n",
       "      <td>1</td>\n",
       "      <td>16101.0</td>\n",
       "      <td>Long Term</td>\n",
       "      <td>734.000000</td>\n",
       "      <td>10.0</td>\n",
       "      <td>Home Mortgage</td>\n",
       "      <td>80504.000000</td>\n",
       "      <td>Debt Consolidation</td>\n",
       "      <td>1187.43</td>\n",
       "      <td>16.4</td>\n",
       "      <td>9.000000</td>\n",
       "      <td>7</td>\n",
       "      <td>0</td>\n",
       "      <td>12243</td>\n",
       "      <td>21036.0</td>\n",
       "      <td>0.0</td>\n",
       "      <td>0.0</td>\n",
       "    </tr>\n",
       "    <tr>\n",
       "      <th>134078</th>\n",
       "      <td>1</td>\n",
       "      <td>9878.0</td>\n",
       "      <td>Short Term</td>\n",
       "      <td>724.325296</td>\n",
       "      <td>8.0</td>\n",
       "      <td>Home Mortgage</td>\n",
       "      <td>71732.248864</td>\n",
       "      <td>Debt Consolidation</td>\n",
       "      <td>1246.07</td>\n",
       "      <td>20.2</td>\n",
       "      <td>8.000000</td>\n",
       "      <td>10</td>\n",
       "      <td>1</td>\n",
       "      <td>9274</td>\n",
       "      <td>20032.0</td>\n",
       "      <td>1.0</td>\n",
       "      <td>0.0</td>\n",
       "    </tr>\n",
       "    <tr>\n",
       "      <th>218736</th>\n",
       "      <td>0</td>\n",
       "      <td>17806.0</td>\n",
       "      <td>Long Term</td>\n",
       "      <td>718.000000</td>\n",
       "      <td>6.0</td>\n",
       "      <td>Rent</td>\n",
       "      <td>58363.000000</td>\n",
       "      <td>Debt Consolidation</td>\n",
       "      <td>976.12</td>\n",
       "      <td>14.8</td>\n",
       "      <td>36.201234</td>\n",
       "      <td>14</td>\n",
       "      <td>0</td>\n",
       "      <td>0</td>\n",
       "      <td>0.0</td>\n",
       "      <td>0.0</td>\n",
       "      <td>0.0</td>\n",
       "    </tr>\n",
       "    <tr>\n",
       "      <th>99245</th>\n",
       "      <td>1</td>\n",
       "      <td>3222.0</td>\n",
       "      <td>Short Term</td>\n",
       "      <td>719.000000</td>\n",
       "      <td>2.0</td>\n",
       "      <td>Rent</td>\n",
       "      <td>50345.000000</td>\n",
       "      <td>Buy House</td>\n",
       "      <td>675.46</td>\n",
       "      <td>14.1</td>\n",
       "      <td>19.000000</td>\n",
       "      <td>15</td>\n",
       "      <td>0</td>\n",
       "      <td>4245</td>\n",
       "      <td>8055.0</td>\n",
       "      <td>0.0</td>\n",
       "      <td>0.0</td>\n",
       "    </tr>\n",
       "    <tr>\n",
       "      <th>87784</th>\n",
       "      <td>1</td>\n",
       "      <td>3032.0</td>\n",
       "      <td>Short Term</td>\n",
       "      <td>725.435818</td>\n",
       "      <td>2.0</td>\n",
       "      <td>Rent</td>\n",
       "      <td>36262.244975</td>\n",
       "      <td>Debt Consolidation</td>\n",
       "      <td>193.14</td>\n",
       "      <td>13.7</td>\n",
       "      <td>39.000000</td>\n",
       "      <td>7</td>\n",
       "      <td>0</td>\n",
       "      <td>2600</td>\n",
       "      <td>8579.0</td>\n",
       "      <td>0.0</td>\n",
       "      <td>0.0</td>\n",
       "    </tr>\n",
       "    <tr>\n",
       "      <th>20053</th>\n",
       "      <td>1</td>\n",
       "      <td>28540.0</td>\n",
       "      <td>Short Term</td>\n",
       "      <td>748.000000</td>\n",
       "      <td>4.0</td>\n",
       "      <td>Home Mortgage</td>\n",
       "      <td>122316.000000</td>\n",
       "      <td>Debt Consolidation</td>\n",
       "      <td>2578.83</td>\n",
       "      <td>34.9</td>\n",
       "      <td>26.602363</td>\n",
       "      <td>11</td>\n",
       "      <td>0</td>\n",
       "      <td>82404</td>\n",
       "      <td>97751.0</td>\n",
       "      <td>0.0</td>\n",
       "      <td>0.0</td>\n",
       "    </tr>\n",
       "    <tr>\n",
       "      <th>173411</th>\n",
       "      <td>1</td>\n",
       "      <td>14642.0</td>\n",
       "      <td>Long Term</td>\n",
       "      <td>630.000000</td>\n",
       "      <td>3.0</td>\n",
       "      <td>Home Mortgage</td>\n",
       "      <td>87930.000000</td>\n",
       "      <td>Home Improvements</td>\n",
       "      <td>521.72</td>\n",
       "      <td>9.6</td>\n",
       "      <td>47.000000</td>\n",
       "      <td>11</td>\n",
       "      <td>0</td>\n",
       "      <td>12985</td>\n",
       "      <td>31442.0</td>\n",
       "      <td>0.0</td>\n",
       "      <td>0.0</td>\n",
       "    </tr>\n",
       "    <tr>\n",
       "      <th>95889</th>\n",
       "      <td>1</td>\n",
       "      <td>14642.0</td>\n",
       "      <td>Short Term</td>\n",
       "      <td>709.000000</td>\n",
       "      <td>10.0</td>\n",
       "      <td>Home Mortgage</td>\n",
       "      <td>182186.000000</td>\n",
       "      <td>Debt Consolidation</td>\n",
       "      <td>438.76</td>\n",
       "      <td>31.5</td>\n",
       "      <td>31.086924</td>\n",
       "      <td>5</td>\n",
       "      <td>0</td>\n",
       "      <td>23883</td>\n",
       "      <td>28364.0</td>\n",
       "      <td>0.0</td>\n",
       "      <td>0.0</td>\n",
       "    </tr>\n",
       "    <tr>\n",
       "      <th>174289</th>\n",
       "      <td>1</td>\n",
       "      <td>11407.0</td>\n",
       "      <td>Short Term</td>\n",
       "      <td>725.668349</td>\n",
       "      <td>3.0</td>\n",
       "      <td>Home Mortgage</td>\n",
       "      <td>52067.737401</td>\n",
       "      <td>Other</td>\n",
       "      <td>718.83</td>\n",
       "      <td>11.0</td>\n",
       "      <td>37.729539</td>\n",
       "      <td>6</td>\n",
       "      <td>0</td>\n",
       "      <td>6205</td>\n",
       "      <td>9303.0</td>\n",
       "      <td>0.0</td>\n",
       "      <td>0.0</td>\n",
       "    </tr>\n",
       "    <tr>\n",
       "      <th>124748</th>\n",
       "      <td>0</td>\n",
       "      <td>7528.0</td>\n",
       "      <td>Long Term</td>\n",
       "      <td>740.000000</td>\n",
       "      <td>5.0</td>\n",
       "      <td>Home Mortgage</td>\n",
       "      <td>57211.000000</td>\n",
       "      <td>Home Improvements</td>\n",
       "      <td>221.70</td>\n",
       "      <td>15.2</td>\n",
       "      <td>35.338538</td>\n",
       "      <td>4</td>\n",
       "      <td>0</td>\n",
       "      <td>1266</td>\n",
       "      <td>3013.0</td>\n",
       "      <td>0.0</td>\n",
       "      <td>0.0</td>\n",
       "    </tr>\n",
       "    <tr>\n",
       "      <th>194411</th>\n",
       "      <td>1</td>\n",
       "      <td>25620.0</td>\n",
       "      <td>Short Term</td>\n",
       "      <td>708.177225</td>\n",
       "      <td>10.0</td>\n",
       "      <td>Home Mortgage</td>\n",
       "      <td>91466.524564</td>\n",
       "      <td>Debt Consolidation</td>\n",
       "      <td>1669.66</td>\n",
       "      <td>13.8</td>\n",
       "      <td>38.000000</td>\n",
       "      <td>10</td>\n",
       "      <td>0</td>\n",
       "      <td>21824</td>\n",
       "      <td>32476.0</td>\n",
       "      <td>0.0</td>\n",
       "      <td>0.0</td>\n",
       "    </tr>\n",
       "    <tr>\n",
       "      <th>58509</th>\n",
       "      <td>1</td>\n",
       "      <td>20346.0</td>\n",
       "      <td>Short Term</td>\n",
       "      <td>751.000000</td>\n",
       "      <td>10.0</td>\n",
       "      <td>Rent</td>\n",
       "      <td>110886.000000</td>\n",
       "      <td>Other</td>\n",
       "      <td>601.56</td>\n",
       "      <td>17.2</td>\n",
       "      <td>35.989244</td>\n",
       "      <td>10</td>\n",
       "      <td>0</td>\n",
       "      <td>6133</td>\n",
       "      <td>45098.0</td>\n",
       "      <td>0.0</td>\n",
       "      <td>0.0</td>\n",
       "    </tr>\n",
       "    <tr>\n",
       "      <th>210368</th>\n",
       "      <td>1</td>\n",
       "      <td>4920.0</td>\n",
       "      <td>Short Term</td>\n",
       "      <td>728.416215</td>\n",
       "      <td>1.0</td>\n",
       "      <td>Home Mortgage</td>\n",
       "      <td>102258.580789</td>\n",
       "      <td>Other</td>\n",
       "      <td>2047.82</td>\n",
       "      <td>14.2</td>\n",
       "      <td>35.941988</td>\n",
       "      <td>14</td>\n",
       "      <td>0</td>\n",
       "      <td>50428</td>\n",
       "      <td>72663.0</td>\n",
       "      <td>0.0</td>\n",
       "      <td>0.0</td>\n",
       "    </tr>\n",
       "    <tr>\n",
       "      <th>181740</th>\n",
       "      <td>1</td>\n",
       "      <td>12919.0</td>\n",
       "      <td>Short Term</td>\n",
       "      <td>727.000000</td>\n",
       "      <td>10.0</td>\n",
       "      <td>Rent</td>\n",
       "      <td>56647.000000</td>\n",
       "      <td>Debt Consolidation</td>\n",
       "      <td>1156.53</td>\n",
       "      <td>20.9</td>\n",
       "      <td>35.631202</td>\n",
       "      <td>21</td>\n",
       "      <td>0</td>\n",
       "      <td>26542</td>\n",
       "      <td>30509.0</td>\n",
       "      <td>0.0</td>\n",
       "      <td>0.0</td>\n",
       "    </tr>\n",
       "  </tbody>\n",
       "</table>\n",
       "</div>"
      ],
      "text/plain": [
       "        Loan Status  Current Loan Amount        Term  Credit Score  \\\n",
       "32324             1              14642.0  Short Term    747.000000   \n",
       "56621             1               2088.0  Short Term    748.000000   \n",
       "7721              1              14642.0   Long Term    722.000000   \n",
       "28207             1              34689.0  Short Term    719.000000   \n",
       "192766            1              34782.0   Long Term    700.731317   \n",
       "60333             1              23748.0  Short Term    728.181405   \n",
       "128254            0               7077.0  Short Term    740.000000   \n",
       "222849            1               6973.0  Short Term    733.000000   \n",
       "79276             1              11705.0  Short Term    733.000000   \n",
       "45851             1              12701.0   Long Term    721.258189   \n",
       "131154            1               3002.0  Short Term    727.991341   \n",
       "189461            0              16192.0   Long Term    721.223855   \n",
       "180237            1              15473.0  Short Term    724.000000   \n",
       "154840            1               4953.0  Short Term    746.000000   \n",
       "22674             1              25503.0   Long Term    708.651767   \n",
       "134829            1               7839.0  Short Term    730.356857   \n",
       "164363            1              28343.0  Short Term    716.000000   \n",
       "25754             1               9790.0  Short Term    728.259032   \n",
       "174943            1               4134.0  Short Term    715.000000   \n",
       "5000              1              12522.0   Long Term    667.000000   \n",
       "9375              1              14407.0  Short Term    729.269720   \n",
       "231579            1              15302.0  Short Term    712.000000   \n",
       "180927            1              20262.0  Short Term    749.000000   \n",
       "49639             0              18177.0  Short Term    731.034792   \n",
       "1915              0              27964.0  Short Term    701.905510   \n",
       "212283            1              10852.0  Short Term    725.000000   \n",
       "113558            1               6122.0  Short Term    720.003150   \n",
       "231243            1              14085.0  Short Term    724.223071   \n",
       "87874             0              18268.0   Long Term    721.901143   \n",
       "42391             1              28451.0  Short Term    729.000000   \n",
       "201110            1              15872.0   Long Term    744.000000   \n",
       "109642            1              14642.0  Short Term    747.000000   \n",
       "157059            1               5064.0   Long Term    718.549055   \n",
       "20731             1              14642.0  Short Term    747.000000   \n",
       "189882            0              20200.0   Long Term    633.000000   \n",
       "206312            1              14829.0  Short Term    741.000000   \n",
       "233481            1              16101.0   Long Term    734.000000   \n",
       "134078            1               9878.0  Short Term    724.325296   \n",
       "218736            0              17806.0   Long Term    718.000000   \n",
       "99245             1               3222.0  Short Term    719.000000   \n",
       "87784             1               3032.0  Short Term    725.435818   \n",
       "20053             1              28540.0  Short Term    748.000000   \n",
       "173411            1              14642.0   Long Term    630.000000   \n",
       "95889             1              14642.0  Short Term    709.000000   \n",
       "174289            1              11407.0  Short Term    725.668349   \n",
       "124748            0               7528.0   Long Term    740.000000   \n",
       "194411            1              25620.0  Short Term    708.177225   \n",
       "58509             1              20346.0  Short Term    751.000000   \n",
       "210368            1               4920.0  Short Term    728.416215   \n",
       "181740            1              12919.0  Short Term    727.000000   \n",
       "\n",
       "        Years in current job Home Ownership  Annual Income  \\\n",
       "32324                    8.0           Rent   37384.000000   \n",
       "56621                    5.0           Rent   25849.000000   \n",
       "7721                     2.0  Home Mortgage   61696.000000   \n",
       "28207                   10.0  Home Mortgage  297330.000000   \n",
       "192766                   1.0  Home Mortgage   95644.440076   \n",
       "60333                    7.0  Home Mortgage   77266.464691   \n",
       "128254                   3.0  Home Mortgage   47179.000000   \n",
       "222849                   8.0           Rent   34565.000000   \n",
       "79276                    2.0           Rent   64121.000000   \n",
       "45851                   10.0  Home Mortgage   48968.452256   \n",
       "131154                   3.0           Rent   49787.194546   \n",
       "189461                  10.0  Home Mortgage   63206.608796   \n",
       "180237                   9.0       Own Home   33670.000000   \n",
       "154840                   8.0           Rent   32687.000000   \n",
       "22674                    1.0           Rent   89574.167896   \n",
       "134829                  10.0  Home Mortgage  112849.522588   \n",
       "164363                   3.0           Rent   71302.000000   \n",
       "25754                    2.0  Home Mortgage   67568.461803   \n",
       "174943                   1.0           Rent   74799.000000   \n",
       "5000                     1.0       Own Home   50888.000000   \n",
       "9375                    10.0  Home Mortgage  107992.426105   \n",
       "231579                  10.0           Rent   96910.000000   \n",
       "180927                  10.0           Rent   68891.000000   \n",
       "49639                    7.0           Rent   68574.651894   \n",
       "1915                     6.0  Home Mortgage  156967.583013   \n",
       "212283                   4.0           Rent   60852.000000   \n",
       "113558                   1.0           Rent   36983.725341   \n",
       "231243                   1.0           Rent   47306.888624   \n",
       "87874                    4.0  Home Mortgage   53616.984134   \n",
       "42391                    4.0           Rent  130061.000000   \n",
       "201110                   1.0  Home Mortgage   79360.000000   \n",
       "109642                   5.0  Home Mortgage   60215.000000   \n",
       "157059                   1.0           Rent   34183.128066   \n",
       "20731                   10.0  Home Mortgage   96000.000000   \n",
       "189882                  10.0  Home Mortgage   68125.000000   \n",
       "206312                   7.0  Home Mortgage   86008.000000   \n",
       "233481                  10.0  Home Mortgage   80504.000000   \n",
       "134078                   8.0  Home Mortgage   71732.248864   \n",
       "218736                   6.0           Rent   58363.000000   \n",
       "99245                    2.0           Rent   50345.000000   \n",
       "87784                    2.0           Rent   36262.244975   \n",
       "20053                    4.0  Home Mortgage  122316.000000   \n",
       "173411                   3.0  Home Mortgage   87930.000000   \n",
       "95889                   10.0  Home Mortgage  182186.000000   \n",
       "174289                   3.0  Home Mortgage   52067.737401   \n",
       "124748                   5.0  Home Mortgage   57211.000000   \n",
       "194411                  10.0  Home Mortgage   91466.524564   \n",
       "58509                   10.0           Rent  110886.000000   \n",
       "210368                   1.0  Home Mortgage  102258.580789   \n",
       "181740                  10.0           Rent   56647.000000   \n",
       "\n",
       "                     Purpose  Monthly Debt  Years of Credit History  \\\n",
       "32324     Debt Consolidation        137.70                     14.1   \n",
       "56621              Buy a Car         49.76                     12.8   \n",
       "7721               Buy House       1048.31                     14.5   \n",
       "28207     Debt Consolidation       4806.84                     15.0   \n",
       "192766     Home Improvements       1515.40                     11.4   \n",
       "60333     Debt Consolidation        650.10                     25.9   \n",
       "128254    Debt Consolidation       1336.74                     12.9   \n",
       "222849                 Other        351.40                     11.4   \n",
       "79276     Debt Consolidation        523.13                     16.9   \n",
       "45851     Debt Consolidation        426.50                     14.0   \n",
       "131154    Debt Consolidation        822.99                     11.8   \n",
       "189461    Debt Consolidation        755.63                     16.9   \n",
       "180237    Debt Consolidation        477.00                      8.0   \n",
       "154840    Debt Consolidation        520.26                     10.9   \n",
       "22674     Debt Consolidation       1206.51                     17.4   \n",
       "134829    Debt Consolidation       1996.55                     21.0   \n",
       "164363    Debt Consolidation       1134.89                     12.0   \n",
       "25754     Debt Consolidation       1218.37                     13.8   \n",
       "174943  Educational Expenses        953.69                     17.5   \n",
       "5000      Debt Consolidation        259.53                     13.6   \n",
       "9375       Home Improvements       1800.90                     26.4   \n",
       "231579    Debt Consolidation       1380.96                     20.3   \n",
       "180927    Debt Consolidation        930.03                     38.1   \n",
       "49639     Debt Consolidation        959.36                     20.4   \n",
       "1915      Debt Consolidation       2632.21                     36.7   \n",
       "212283    Debt Consolidation        917.85                     28.8   \n",
       "113558    Debt Consolidation        322.49                      9.0   \n",
       "231243    Debt Consolidation        626.58                     11.1   \n",
       "87874     Debt Consolidation        594.26                     15.3   \n",
       "42391     Debt Consolidation       1658.28                     20.7   \n",
       "201110     Home Improvements        667.94                     13.0   \n",
       "109642    Debt Consolidation        484.73                     19.3   \n",
       "157059    Debt Consolidation        302.75                      9.0   \n",
       "20731     Debt Consolidation        808.00                     21.6   \n",
       "189882     Home Improvements        789.11                     30.8   \n",
       "206312         Business Loan        860.80                     59.9   \n",
       "233481    Debt Consolidation       1187.43                     16.4   \n",
       "134078    Debt Consolidation       1246.07                     20.2   \n",
       "218736    Debt Consolidation        976.12                     14.8   \n",
       "99245              Buy House        675.46                     14.1   \n",
       "87784     Debt Consolidation        193.14                     13.7   \n",
       "20053     Debt Consolidation       2578.83                     34.9   \n",
       "173411     Home Improvements        521.72                      9.6   \n",
       "95889     Debt Consolidation        438.76                     31.5   \n",
       "174289                 Other        718.83                     11.0   \n",
       "124748     Home Improvements        221.70                     15.2   \n",
       "194411    Debt Consolidation       1669.66                     13.8   \n",
       "58509                  Other        601.56                     17.2   \n",
       "210368                 Other       2047.82                     14.2   \n",
       "181740    Debt Consolidation       1156.53                     20.9   \n",
       "\n",
       "        Months since last delinquent  Number of Open Accounts  \\\n",
       "32324                      31.722347                        5   \n",
       "56621                      25.983739                        3   \n",
       "7721                       32.294888                        9   \n",
       "28207                      39.127318                       24   \n",
       "192766                     41.611193                       16   \n",
       "60333                      33.364574                       15   \n",
       "128254                      5.000000                       11   \n",
       "222849                     22.000000                        5   \n",
       "79276                      45.920096                       11   \n",
       "45851                      37.451264                       11   \n",
       "131154                     32.774772                       14   \n",
       "189461                     40.385346                       14   \n",
       "180237                     27.313372                        8   \n",
       "154840                      5.000000                       12   \n",
       "22674                      34.021071                       15   \n",
       "134829                     33.231848                       18   \n",
       "164363                     38.269221                       13   \n",
       "25754                      37.682833                       11   \n",
       "174943                     33.937089                       11   \n",
       "5000                        8.000000                        5   \n",
       "9375                       12.000000                       14   \n",
       "231579                     47.000000                       21   \n",
       "180927                     33.506762                        8   \n",
       "49639                      31.401197                       40   \n",
       "1915                       10.000000                       16   \n",
       "212283                     41.852952                        9   \n",
       "113558                     40.000000                        8   \n",
       "231243                     31.000000                        9   \n",
       "87874                      37.515846                       10   \n",
       "42391                      34.836431                       10   \n",
       "201110                     21.000000                        9   \n",
       "109642                     35.055298                       14   \n",
       "157059                     30.820031                        5   \n",
       "20731                      36.584872                        9   \n",
       "189882                     37.996158                        9   \n",
       "206312                     46.515403                        9   \n",
       "233481                      9.000000                        7   \n",
       "134078                      8.000000                       10   \n",
       "218736                     36.201234                       14   \n",
       "99245                      19.000000                       15   \n",
       "87784                      39.000000                        7   \n",
       "20053                      26.602363                       11   \n",
       "173411                     47.000000                       11   \n",
       "95889                      31.086924                        5   \n",
       "174289                     37.729539                        6   \n",
       "124748                     35.338538                        4   \n",
       "194411                     38.000000                       10   \n",
       "58509                      35.989244                       10   \n",
       "210368                     35.941988                       14   \n",
       "181740                     35.631202                       21   \n",
       "\n",
       "        Number of Credit Problems  Current Credit Balance  \\\n",
       "32324                           0                    4243   \n",
       "56621                           0                    1108   \n",
       "7721                            0                    2950   \n",
       "28207                           0                   70019   \n",
       "192766                          0                    9967   \n",
       "60333                           0                   24757   \n",
       "128254                          0                   16689   \n",
       "222849                          0                    1410   \n",
       "79276                           1                    5331   \n",
       "45851                           1                    5564   \n",
       "131154                          0                     577   \n",
       "189461                          1                   13166   \n",
       "180237                          0                   40591   \n",
       "154840                          1                    5734   \n",
       "22674                           0                   16889   \n",
       "134829                          0                   28063   \n",
       "164363                          0                   20014   \n",
       "25754                           0                   38348   \n",
       "174943                          0                   15332   \n",
       "5000                            1                    1764   \n",
       "9375                            0                   11542   \n",
       "231579                          0                   22691   \n",
       "180927                          0                   18946   \n",
       "49639                           0                   23929   \n",
       "1915                            0                   35064   \n",
       "212283                          0                    8482   \n",
       "113558                          1                    6122   \n",
       "231243                          0                    5363   \n",
       "87874                           0                    7520   \n",
       "42391                           0                   23024   \n",
       "201110                          0                    8593   \n",
       "109642                          0                   28306   \n",
       "157059                          0                    2259   \n",
       "20731                           0                   23986   \n",
       "189882                          1                    5936   \n",
       "206312                          1                    4558   \n",
       "233481                          0                   12243   \n",
       "134078                          1                    9274   \n",
       "218736                          0                       0   \n",
       "99245                           0                    4245   \n",
       "87784                           0                    2600   \n",
       "20053                           0                   82404   \n",
       "173411                          0                   12985   \n",
       "95889                           0                   23883   \n",
       "174289                          0                    6205   \n",
       "124748                          0                    1266   \n",
       "194411                          0                   21824   \n",
       "58509                           0                    6133   \n",
       "210368                          0                   50428   \n",
       "181740                          0                   26542   \n",
       "\n",
       "        Maximum Open Credit  Bankruptcies  Tax Liens  \n",
       "32324               21005.0           0.0        0.0  \n",
       "56621                2289.0           0.0        0.0  \n",
       "7721                36871.0           0.0        0.0  \n",
       "28207               90699.0           0.0        0.0  \n",
       "192766              61908.0           0.0        0.0  \n",
       "60333               41962.0           0.0        0.0  \n",
       "128254              18879.0           0.0        0.0  \n",
       "222849               4381.0           0.0        0.0  \n",
       "79276               15146.0           0.0        0.0  \n",
       "45851               18735.0           1.0        0.0  \n",
       "131154              14434.0           0.0        0.0  \n",
       "189461              29720.0           1.0        0.0  \n",
       "180237             335466.0           0.0        0.0  \n",
       "154840              10406.0           0.0        1.0  \n",
       "22674               28626.0           0.0        0.0  \n",
       "134829              42264.0           0.0        0.0  \n",
       "164363              21994.0           0.0        0.0  \n",
       "25754               41593.0           0.0        0.0  \n",
       "174943              16830.0           0.0        0.0  \n",
       "5000                 4191.0           0.0        1.0  \n",
       "9375                25995.0           0.0        0.0  \n",
       "231579              34696.0           0.0        0.0  \n",
       "180927              30508.0           0.0        0.0  \n",
       "49639               34629.0           0.0        0.0  \n",
       "1915                42761.0           0.0        0.0  \n",
       "212283               9783.0           0.0        0.0  \n",
       "113558              13883.0           1.0        0.0  \n",
       "231243              11172.0           0.0        0.0  \n",
       "87874               22313.0           0.0        0.0  \n",
       "42391               28354.0           0.0        0.0  \n",
       "201110              38706.0           0.0        0.0  \n",
       "109642              73143.0           0.0        0.0  \n",
       "157059               2786.0           0.0        0.0  \n",
       "20731               40313.0           0.0        0.0  \n",
       "189882               8480.0           1.0        0.0  \n",
       "206312               9596.0           1.0        0.0  \n",
       "233481              21036.0           0.0        0.0  \n",
       "134078              20032.0           1.0        0.0  \n",
       "218736                  0.0           0.0        0.0  \n",
       "99245                8055.0           0.0        0.0  \n",
       "87784                8579.0           0.0        0.0  \n",
       "20053               97751.0           0.0        0.0  \n",
       "173411              31442.0           0.0        0.0  \n",
       "95889               28364.0           0.0        0.0  \n",
       "174289               9303.0           0.0        0.0  \n",
       "124748               3013.0           0.0        0.0  \n",
       "194411              32476.0           0.0        0.0  \n",
       "58509               45098.0           0.0        0.0  \n",
       "210368              72663.0           0.0        0.0  \n",
       "181740              30509.0           0.0        0.0  "
      ]
     },
     "execution_count": 71,
     "metadata": {},
     "output_type": "execute_result"
    }
   ],
   "source": [
    "df.sample(50)"
   ]
  },
  {
   "cell_type": "code",
   "execution_count": 11,
   "id": "c18c1e20",
   "metadata": {},
   "outputs": [
    {
     "data": {
      "text/plain": [
       "0     584.03\n",
       "1    1106.04\n",
       "2    1321.85\n",
       "3     751.92\n",
       "4     355.18\n",
       "Name: Monthly Debt, dtype: float64"
      ]
     },
     "execution_count": 11,
     "metadata": {},
     "output_type": "execute_result"
    }
   ],
   "source": [
    "df[\"Monthly Debt\"]=df[\"Monthly Debt\"].str.extract(\"\\$?([0-9,]+\\.?[0-9]+)\")\n",
    "df[\"Monthly Debt\"]=df[\"Monthly Debt\"].str.replace(',','', regex=True)\n",
    "df[\"Monthly Debt\"]=df[\"Monthly Debt\"].astype(\"float\")\n",
    "df[\"Monthly Debt\"].head()"
   ]
  },
  {
   "cell_type": "code",
   "execution_count": 13,
   "id": "dc30e1a0",
   "metadata": {},
   "outputs": [
    {
     "data": {
      "text/plain": [
       "0    10.0\n",
       "1     4.0\n",
       "2    10.0\n",
       "3    10.0\n",
       "4     4.0\n",
       "Name: Years in current job, dtype: float64"
      ]
     },
     "execution_count": 13,
     "metadata": {},
     "output_type": "execute_result"
    }
   ],
   "source": [
    "df[\"Years in current job\"]=df[\"Years in current job\"].str.extract('(\\d+)')\n",
    "df[\"Years in current job\"]=pd.to_numeric(df[\"Years in current job\"], errors='coerce')\n",
    "df[\"Years in current job\"].head()"
   ]
  },
  {
   "cell_type": "code",
   "execution_count": 14,
   "id": "425cff29",
   "metadata": {},
   "outputs": [],
   "source": [
    "df.drop_duplicates(subset=[\"Loan ID\", \"Customer ID\"], inplace=True)"
   ]
  },
  {
   "cell_type": "code",
   "execution_count": 15,
   "id": "f3069d3b",
   "metadata": {
    "scrolled": true
   },
   "outputs": [
    {
     "name": "stdout",
     "output_type": "stream",
     "text": [
      "<class 'pandas.core.frame.DataFrame'>\n",
      "Int64Index: 215700 entries, 0 to 256983\n",
      "Data columns (total 19 columns):\n",
      " #   Column                        Non-Null Count   Dtype  \n",
      "---  ------                        --------------   -----  \n",
      " 0   Loan ID                       215700 non-null  object \n",
      " 1   Customer ID                   215700 non-null  object \n",
      " 2   Loan Status                   215700 non-null  object \n",
      " 3   Current Loan Amount           215700 non-null  int64  \n",
      " 4   Term                          215700 non-null  object \n",
      " 5   Credit Score                  160692 non-null  float64\n",
      " 6   Years in current job          206710 non-null  float64\n",
      " 7   Home Ownership                215700 non-null  object \n",
      " 8   Annual Income                 160692 non-null  float64\n",
      " 9   Purpose                       215700 non-null  object \n",
      " 10  Monthly Debt                  215700 non-null  float64\n",
      " 11  Years of Credit History       215700 non-null  float64\n",
      " 12  Months since last delinquent  97438 non-null   float64\n",
      " 13  Number of Open Accounts       215700 non-null  int64  \n",
      " 14  Number of Credit Problems     215700 non-null  int64  \n",
      " 15  Current Credit Balance        215700 non-null  int64  \n",
      " 16  Maximum Open Credit           215700 non-null  object \n",
      " 17  Bankruptcies                  215248 non-null  float64\n",
      " 18  Tax Liens                     215678 non-null  float64\n",
      "dtypes: float64(8), int64(4), object(7)\n",
      "memory usage: 32.9+ MB\n"
     ]
    }
   ],
   "source": [
    "df.info()    #boş veriler çıktı"
   ]
  },
  {
   "cell_type": "code",
   "execution_count": 16,
   "id": "0470d0c3",
   "metadata": {
    "scrolled": true
   },
   "outputs": [
    {
     "data": {
      "text/plain": [
       "Loan ID                              0\n",
       "Customer ID                          0\n",
       "Loan Status                          0\n",
       "Current Loan Amount                  0\n",
       "Term                                 0\n",
       "Credit Score                     55008\n",
       "Years in current job              8990\n",
       "Home Ownership                       0\n",
       "Annual Income                    55008\n",
       "Purpose                              0\n",
       "Monthly Debt                         0\n",
       "Years of Credit History              0\n",
       "Months since last delinquent    118262\n",
       "Number of Open Accounts              0\n",
       "Number of Credit Problems            0\n",
       "Current Credit Balance               0\n",
       "Maximum Open Credit                  0\n",
       "Bankruptcies                       452\n",
       "Tax Liens                           22\n",
       "dtype: int64"
      ]
     },
     "execution_count": 16,
     "metadata": {},
     "output_type": "execute_result"
    }
   ],
   "source": [
    "df.isnull().sum()        "
   ]
  },
  {
   "cell_type": "code",
   "execution_count": 22,
   "id": "ed8135fb",
   "metadata": {},
   "outputs": [],
   "source": [
    "df[\"Current Loan Amount\"] = df[\"Current Loan Amount\"].apply(lambda x : df[\"Current Loan Amount\"].median() if x >= 99999999 else x)"
   ]
  },
  {
   "cell_type": "code",
   "execution_count": 23,
   "id": "8ede5e9b",
   "metadata": {},
   "outputs": [],
   "source": [
    "df[\"Credit Score\"] = df[\"Credit Score\"].apply(lambda x: x/10 if x > 800 else x)"
   ]
  },
  {
   "cell_type": "code",
   "execution_count": 1,
   "id": "73cecba5",
   "metadata": {},
   "outputs": [
    {
     "ename": "NameError",
     "evalue": "name 'df' is not defined",
     "output_type": "error",
     "traceback": [
      "\u001b[1;31m---------------------------------------------------------------------------\u001b[0m",
      "\u001b[1;31mNameError\u001b[0m                                 Traceback (most recent call last)",
      "Input \u001b[1;32mIn [1]\u001b[0m, in \u001b[0;36m<cell line: 1>\u001b[1;34m()\u001b[0m\n\u001b[1;32m----> 1\u001b[0m \u001b[43mdf\u001b[49m[\u001b[38;5;124m\"\u001b[39m\u001b[38;5;124mPurpose\u001b[39m\u001b[38;5;124m\"\u001b[39m]\u001b[38;5;241m.\u001b[39munique()\n\u001b[0;32m      2\u001b[0m df[\u001b[38;5;124m\"\u001b[39m\u001b[38;5;124mPurpose\u001b[39m\u001b[38;5;124m\"\u001b[39m]\u001b[38;5;241m.\u001b[39mreplace(\u001b[38;5;124m\"\u001b[39m\u001b[38;5;124mother\u001b[39m\u001b[38;5;124m\"\u001b[39m, \u001b[38;5;124m\"\u001b[39m\u001b[38;5;124mOther\u001b[39m\u001b[38;5;124m\"\u001b[39m, inplace\u001b[38;5;241m=\u001b[39m\u001b[38;5;28;01mTrue\u001b[39;00m)\n",
      "\u001b[1;31mNameError\u001b[0m: name 'df' is not defined"
     ]
    }
   ],
   "source": [
    "df[\"Purpose\"].unique()\n",
    "df[\"Purpose\"].replace(\"other\", \"Other\", inplace=True)"
   ]
  },
  {
   "cell_type": "code",
   "execution_count": 25,
   "id": "d73f41e6",
   "metadata": {},
   "outputs": [],
   "source": [
    "df[\"Maximum Open Credit\"].replace(\"#VALUE!\", np.nan, inplace=True)"
   ]
  },
  {
   "cell_type": "code",
   "execution_count": 26,
   "id": "017ac553",
   "metadata": {},
   "outputs": [
    {
     "data": {
      "text/plain": [
       "205788    42717.0\n",
       "205789    11614.0\n",
       "205790    34091.0\n",
       "205791    42900.0\n",
       "205792     6021.0\n",
       "           ...   \n",
       "256977     4783.0\n",
       "256979    44080.0\n",
       "256980     9758.0\n",
       "256981    20090.0\n",
       "256983    62371.0\n",
       "Name: Maximum Open Credit, Length: 43105, dtype: float64"
      ]
     },
     "execution_count": 26,
     "metadata": {},
     "output_type": "execute_result"
    }
   ],
   "source": [
    "df[\"Maximum Open Credit\"] = pd.to_numeric(df[\"Maximum Open Credit\"], errors='coerce')\n",
    "df[\"Maximum Open Credit\"][172595:]"
   ]
  },
  {
   "cell_type": "code",
   "execution_count": 27,
   "id": "66d5cdd0",
   "metadata": {},
   "outputs": [
    {
     "data": {
      "text/plain": [
       "0"
      ]
     },
     "execution_count": 27,
     "metadata": {},
     "output_type": "execute_result"
    }
   ],
   "source": [
    "df[\"Maximum Open Credit\"].fillna(df[\"Maximum Open Credit\"].mean(), inplace=True)\n",
    "df[\"Maximum Open Credit\"].isnull().sum()"
   ]
  },
  {
   "cell_type": "code",
   "execution_count": 29,
   "id": "6edfd337",
   "metadata": {},
   "outputs": [
    {
     "data": {
      "text/plain": [
       "0"
      ]
     },
     "execution_count": 29,
     "metadata": {},
     "output_type": "execute_result"
    }
   ],
   "source": [
    "df[\"Bankruptcies\"].fillna(df[\"Bankruptcies\"].median(), inplace=True)\n",
    "df[\"Bankruptcies\"].isnull().sum()"
   ]
  },
  {
   "cell_type": "code",
   "execution_count": 32,
   "id": "f4ee0712",
   "metadata": {},
   "outputs": [
    {
     "data": {
      "text/plain": [
       "0"
      ]
     },
     "execution_count": 32,
     "metadata": {},
     "output_type": "execute_result"
    }
   ],
   "source": [
    "df[\"Tax Liens\"].fillna(df[\"Tax Liens\"].median(), inplace=True)\n",
    "df[\"Tax Liens\"].isnull().sum()"
   ]
  },
  {
   "cell_type": "code",
   "execution_count": null,
   "id": "66b5ad25",
   "metadata": {},
   "outputs": [],
   "source": [
    "#\"Years of Credit History\", \"Monthly Debt\", \"Current Loan Amount\", \"Number of Open Accounts\", \"Number of Credit Problems\", \"Current Credit Balance\""
   ]
  },
  {
   "cell_type": "code",
   "execution_count": 35,
   "id": "9efd4038",
   "metadata": {},
   "outputs": [
    {
     "name": "stdout",
     "output_type": "stream",
     "text": [
      "(2000, 6)\n",
      "(215700, 19)\n"
     ]
    }
   ],
   "source": [
    "from sklearn.ensemble import GradientBoostingRegressor\n",
    "X = df[df['Credit Score'].notnull()]\n",
    "X = X.drop(\"Credit Score\", axis=1)\n",
    "X = X[0:2000]\n",
    "X = X[[\"Years of Credit History\", \"Monthly Debt\", \"Current Loan Amount\", \"Number of Open Accounts\", \"Number of Credit Problems\", \"Current Credit Balance\"]]\n",
    "print(X.shape)\n",
    "print(df.shape)"
   ]
  },
  {
   "cell_type": "code",
   "execution_count": 37,
   "id": "f509a371",
   "metadata": {},
   "outputs": [
    {
     "name": "stdout",
     "output_type": "stream",
     "text": [
      "(2000,)\n",
      "(215700, 19)\n"
     ]
    }
   ],
   "source": [
    "y = df[df['Credit Score'].notnull()]\n",
    "y = y[\"Credit Score\"]\n",
    "y = y[0:2000]\n",
    "print(y.shape)\n",
    "print(df.shape)"
   ]
  },
  {
   "cell_type": "code",
   "execution_count": 38,
   "id": "03d2d782",
   "metadata": {},
   "outputs": [],
   "source": [
    "gr=GradientBoostingRegressor().fit(X,y)"
   ]
  },
  {
   "cell_type": "code",
   "execution_count": 39,
   "id": "022b2b20",
   "metadata": {},
   "outputs": [
    {
     "data": {
      "text/plain": [
       "(55008, 6)"
      ]
     },
     "execution_count": 39,
     "metadata": {},
     "output_type": "execute_result"
    }
   ],
   "source": [
    "df_without_creditscore = df[df[\"Credit Score\"].isnull()]\n",
    "df_without_creditscore = df_without_creditscore.drop(\"Credit Score\", axis=1)\n",
    "df_without_creditscore = df_without_creditscore[[\"Years of Credit History\", \"Monthly Debt\", \"Current Loan Amount\", \"Number of Open Accounts\", \"Number of Credit Problems\", \"Current Credit Balance\"]]\n",
    "df_without_creditscore.shape"
   ]
  },
  {
   "cell_type": "code",
   "execution_count": 40,
   "id": "8ded1015",
   "metadata": {},
   "outputs": [],
   "source": [
    "df.loc[df[\"Credit Score\"].isnull(),\"Credit Score\"] = gr.predict(df_without_creditscore)"
   ]
  },
  {
   "cell_type": "code",
   "execution_count": 41,
   "id": "81869ca7",
   "metadata": {},
   "outputs": [
    {
     "data": {
      "text/plain": [
       "0"
      ]
     },
     "execution_count": 41,
     "metadata": {},
     "output_type": "execute_result"
    }
   ],
   "source": [
    "df[\"Credit Score\"].isnull().sum()"
   ]
  },
  {
   "cell_type": "code",
   "execution_count": 42,
   "id": "f320d5c6",
   "metadata": {},
   "outputs": [
    {
     "name": "stdout",
     "output_type": "stream",
     "text": [
      "(2000, 6)\n",
      "(215700, 19)\n"
     ]
    }
   ],
   "source": [
    "X = df[df['Years in current job'].notnull()]\n",
    "X = X.drop(\"Years in current job\", axis=1)\n",
    "X = X[0:2000]\n",
    "X = X[[\"Years of Credit History\", \"Monthly Debt\", \"Current Loan Amount\", \"Number of Open Accounts\", \"Number of Credit Problems\", \"Current Credit Balance\"]]\n",
    "print(X.shape)\n",
    "print(df.shape)"
   ]
  },
  {
   "cell_type": "code",
   "execution_count": 43,
   "id": "3ebe8c68",
   "metadata": {},
   "outputs": [
    {
     "name": "stdout",
     "output_type": "stream",
     "text": [
      "(2000,)\n",
      "(215700, 19)\n"
     ]
    }
   ],
   "source": [
    "y = df[df['Years in current job'].notnull()]\n",
    "y = y[\"Years in current job\"]\n",
    "y = y[0:2000]\n",
    "print(y.shape)\n",
    "print(df.shape)"
   ]
  },
  {
   "cell_type": "code",
   "execution_count": 44,
   "id": "1dd84dbe",
   "metadata": {},
   "outputs": [],
   "source": [
    "gr=GradientBoostingRegressor().fit(X,y)"
   ]
  },
  {
   "cell_type": "code",
   "execution_count": 45,
   "id": "667525f5",
   "metadata": {},
   "outputs": [
    {
     "data": {
      "text/plain": [
       "(8990, 6)"
      ]
     },
     "execution_count": 45,
     "metadata": {},
     "output_type": "execute_result"
    }
   ],
   "source": [
    "df_without_creditscore = df[df[\"Years in current job\"].isnull()]\n",
    "df_without_creditscore = df_without_creditscore.drop(\"Years in current job\", axis=1)\n",
    "df_without_creditscore = df_without_creditscore[[\"Years of Credit History\", \"Monthly Debt\", \"Current Loan Amount\", \"Number of Open Accounts\", \"Number of Credit Problems\", \"Current Credit Balance\"]]\n",
    "df_without_creditscore.shape"
   ]
  },
  {
   "cell_type": "code",
   "execution_count": 46,
   "id": "bbc8666b",
   "metadata": {},
   "outputs": [],
   "source": [
    "df.loc[df[\"Years in current job\"].isnull(),\"Years in current job\"] = gr.predict(df_without_creditscore)"
   ]
  },
  {
   "cell_type": "code",
   "execution_count": 47,
   "id": "19bfa461",
   "metadata": {},
   "outputs": [
    {
     "data": {
      "text/plain": [
       "0"
      ]
     },
     "execution_count": 47,
     "metadata": {},
     "output_type": "execute_result"
    }
   ],
   "source": [
    "df[\"Years in current job\"].isnull().sum()"
   ]
  },
  {
   "cell_type": "code",
   "execution_count": 49,
   "id": "64da0ad8",
   "metadata": {},
   "outputs": [
    {
     "name": "stdout",
     "output_type": "stream",
     "text": [
      "(2000, 6)\n",
      "(215700, 19)\n"
     ]
    }
   ],
   "source": [
    "from sklearn.ensemble import GradientBoostingRegressor\n",
    "X = df[df['Annual Income'].notnull()]\n",
    "X = X.drop(\"Annual Income\", axis=1)\n",
    "X = X[0:2000]\n",
    "X = X[[\"Years of Credit History\", \"Monthly Debt\", \"Current Loan Amount\", \"Number of Open Accounts\", \"Number of Credit Problems\", \"Current Credit Balance\"]]\n",
    "print(X.shape)\n",
    "print(df.shape)"
   ]
  },
  {
   "cell_type": "code",
   "execution_count": 51,
   "id": "cb33e3b2",
   "metadata": {},
   "outputs": [
    {
     "name": "stdout",
     "output_type": "stream",
     "text": [
      "(2000,)\n",
      "(215700, 19)\n"
     ]
    }
   ],
   "source": [
    "y = df[df['Annual Income'].notnull()]\n",
    "y = y[\"Annual Income\"]\n",
    "y = y[0:2000]\n",
    "print(y.shape)\n",
    "print(df.shape)"
   ]
  },
  {
   "cell_type": "code",
   "execution_count": 52,
   "id": "26f3665d",
   "metadata": {},
   "outputs": [],
   "source": [
    "gr=GradientBoostingRegressor().fit(X,y)"
   ]
  },
  {
   "cell_type": "code",
   "execution_count": 53,
   "id": "3ca2b3e6",
   "metadata": {},
   "outputs": [
    {
     "data": {
      "text/plain": [
       "(55008, 6)"
      ]
     },
     "execution_count": 53,
     "metadata": {},
     "output_type": "execute_result"
    }
   ],
   "source": [
    "df_without_creditscore = df[df[\"Annual Income\"].isnull()]\n",
    "df_without_creditscore = df_without_creditscore.drop(\"Annual Income\", axis=1)\n",
    "df_without_creditscore = df_without_creditscore[[\"Years of Credit History\", \"Monthly Debt\", \"Current Loan Amount\", \"Number of Open Accounts\", \"Number of Credit Problems\", \"Current Credit Balance\"]]\n",
    "df_without_creditscore.shape"
   ]
  },
  {
   "cell_type": "code",
   "execution_count": 54,
   "id": "7259599b",
   "metadata": {},
   "outputs": [],
   "source": [
    "df.loc[df[\"Annual Income\"].isnull(),\"Annual Income\"] = gr.predict(df_without_creditscore)"
   ]
  },
  {
   "cell_type": "code",
   "execution_count": 55,
   "id": "9c9adac0",
   "metadata": {
    "scrolled": true
   },
   "outputs": [
    {
     "data": {
      "text/plain": [
       "0"
      ]
     },
     "execution_count": 55,
     "metadata": {},
     "output_type": "execute_result"
    }
   ],
   "source": [
    "df[\"Annual Income\"].isnull().sum()"
   ]
  },
  {
   "cell_type": "code",
   "execution_count": 56,
   "id": "a71243d3",
   "metadata": {},
   "outputs": [
    {
     "name": "stdout",
     "output_type": "stream",
     "text": [
      "(2000, 6)\n",
      "(215700, 19)\n"
     ]
    }
   ],
   "source": [
    "X = df[df['Months since last delinquent'].notnull()]\n",
    "X = X.drop(\"Months since last delinquent\", axis=1)\n",
    "X = X[0:2000]\n",
    "X = X[[\"Years of Credit History\", \"Monthly Debt\", \"Current Loan Amount\", \"Number of Open Accounts\", \"Number of Credit Problems\", \"Current Credit Balance\"]]\n",
    "print(X.shape)\n",
    "print(df.shape)"
   ]
  },
  {
   "cell_type": "code",
   "execution_count": 57,
   "id": "e2b8f38a",
   "metadata": {},
   "outputs": [
    {
     "name": "stdout",
     "output_type": "stream",
     "text": [
      "(2000,)\n",
      "(215700, 19)\n"
     ]
    }
   ],
   "source": [
    "y = df[df['Months since last delinquent'].notnull()]\n",
    "y = y[\"Months since last delinquent\"]\n",
    "y = y[0:2000]\n",
    "print(y.shape)\n",
    "print(df.shape)"
   ]
  },
  {
   "cell_type": "code",
   "execution_count": 58,
   "id": "67031de9",
   "metadata": {},
   "outputs": [],
   "source": [
    "gr=GradientBoostingRegressor().fit(X,y)"
   ]
  },
  {
   "cell_type": "code",
   "execution_count": 59,
   "id": "ef9d81e8",
   "metadata": {},
   "outputs": [
    {
     "data": {
      "text/plain": [
       "(118262, 6)"
      ]
     },
     "execution_count": 59,
     "metadata": {},
     "output_type": "execute_result"
    }
   ],
   "source": [
    "df_without_creditscore = df[df[\"Months since last delinquent\"].isnull()]\n",
    "df_without_creditscore = df_without_creditscore.drop(\"Months since last delinquent\", axis=1)\n",
    "df_without_creditscore = df_without_creditscore[[\"Years of Credit History\", \"Monthly Debt\", \"Current Loan Amount\", \"Number of Open Accounts\", \"Number of Credit Problems\", \"Current Credit Balance\"]]\n",
    "df_without_creditscore.shape"
   ]
  },
  {
   "cell_type": "code",
   "execution_count": 60,
   "id": "8ec76372",
   "metadata": {},
   "outputs": [],
   "source": [
    "df.loc[df[\"Months since last delinquent\"].isnull(),\"Months since last delinquent\"] = gr.predict(df_without_creditscore)"
   ]
  },
  {
   "cell_type": "code",
   "execution_count": 61,
   "id": "eeb94119",
   "metadata": {},
   "outputs": [
    {
     "data": {
      "text/plain": [
       "0"
      ]
     },
     "execution_count": 61,
     "metadata": {},
     "output_type": "execute_result"
    }
   ],
   "source": [
    "df[\"Months since last delinquent\"].isnull().sum()"
   ]
  },
  {
   "cell_type": "code",
   "execution_count": 63,
   "id": "2103f633",
   "metadata": {
    "scrolled": true
   },
   "outputs": [
    {
     "data": {
      "text/plain": [
       "Loan Status                     0\n",
       "Current Loan Amount             0\n",
       "Term                            0\n",
       "Credit Score                    0\n",
       "Years in current job            0\n",
       "Home Ownership                  0\n",
       "Annual Income                   0\n",
       "Purpose                         0\n",
       "Monthly Debt                    0\n",
       "Years of Credit History         0\n",
       "Months since last delinquent    0\n",
       "Number of Open Accounts         0\n",
       "Number of Credit Problems       0\n",
       "Current Credit Balance          0\n",
       "Maximum Open Credit             0\n",
       "Bankruptcies                    0\n",
       "Tax Liens                       0\n",
       "dtype: int64"
      ]
     },
     "execution_count": 63,
     "metadata": {},
     "output_type": "execute_result"
    }
   ],
   "source": [
    "df.isnull().sum()      "
   ]
  },
  {
   "cell_type": "code",
   "execution_count": 62,
   "id": "de50faa9",
   "metadata": {},
   "outputs": [],
   "source": [
    "df.drop([\"Loan ID\", \"Customer ID\"], axis=1, inplace=True)"
   ]
  },
  {
   "cell_type": "code",
   "execution_count": 65,
   "id": "c27cf78e",
   "metadata": {},
   "outputs": [
    {
     "data": {
      "text/plain": [
       "<bound method IndexOpsMixin.tolist of Index(['Loan Status', 'Current Loan Amount', 'Term', 'Credit Score',\n",
       "       'Years in current job', 'Home Ownership', 'Annual Income', 'Purpose',\n",
       "       'Monthly Debt', 'Years of Credit History',\n",
       "       'Months since last delinquent', 'Number of Open Accounts',\n",
       "       'Number of Credit Problems', 'Current Credit Balance',\n",
       "       'Maximum Open Credit', 'Bankruptcies', 'Tax Liens'],\n",
       "      dtype='object')>"
      ]
     },
     "execution_count": 65,
     "metadata": {},
     "output_type": "execute_result"
    }
   ],
   "source": [
    "df.columns.tolist"
   ]
  },
  {
   "cell_type": "code",
   "execution_count": 67,
   "id": "e26d55ec",
   "metadata": {},
   "outputs": [],
   "source": [
    "df[\"Loan Status\"] = df[\"Loan Status\"].replace(\"Fully Paid\",1).replace(\"Charged Off\",0).astype(\"int\")"
   ]
  },
  {
   "cell_type": "code",
   "execution_count": null,
   "id": "758807fd",
   "metadata": {},
   "outputs": [],
   "source": []
  },
  {
   "cell_type": "code",
   "execution_count": 68,
   "id": "f0c3cd3d",
   "metadata": {},
   "outputs": [
    {
     "data": {
      "text/html": [
       "<div>\n",
       "<style scoped>\n",
       "    .dataframe tbody tr th:only-of-type {\n",
       "        vertical-align: middle;\n",
       "    }\n",
       "\n",
       "    .dataframe tbody tr th {\n",
       "        vertical-align: top;\n",
       "    }\n",
       "\n",
       "    .dataframe thead th {\n",
       "        text-align: right;\n",
       "    }\n",
       "</style>\n",
       "<table border=\"1\" class=\"dataframe\">\n",
       "  <thead>\n",
       "    <tr style=\"text-align: right;\">\n",
       "      <th></th>\n",
       "      <th>Loan Status</th>\n",
       "      <th>Current Loan Amount</th>\n",
       "      <th>Term</th>\n",
       "      <th>Credit Score</th>\n",
       "      <th>Years in current job</th>\n",
       "      <th>Home Ownership</th>\n",
       "      <th>Annual Income</th>\n",
       "      <th>Purpose</th>\n",
       "      <th>Monthly Debt</th>\n",
       "      <th>Years of Credit History</th>\n",
       "      <th>Months since last delinquent</th>\n",
       "      <th>Number of Open Accounts</th>\n",
       "      <th>Number of Credit Problems</th>\n",
       "      <th>Current Credit Balance</th>\n",
       "      <th>Maximum Open Credit</th>\n",
       "      <th>Bankruptcies</th>\n",
       "      <th>Tax Liens</th>\n",
       "    </tr>\n",
       "  </thead>\n",
       "  <tbody>\n",
       "    <tr>\n",
       "      <th>216677</th>\n",
       "      <td>0</td>\n",
       "      <td>19550.0</td>\n",
       "      <td>Short Term</td>\n",
       "      <td>717.856436</td>\n",
       "      <td>2.0</td>\n",
       "      <td>Home Mortgage</td>\n",
       "      <td>87885.208095</td>\n",
       "      <td>Debt Consolidation</td>\n",
       "      <td>1645.46</td>\n",
       "      <td>15.3</td>\n",
       "      <td>37.308909</td>\n",
       "      <td>13</td>\n",
       "      <td>0</td>\n",
       "      <td>22977</td>\n",
       "      <td>56179.0</td>\n",
       "      <td>0.0</td>\n",
       "      <td>0.0</td>\n",
       "    </tr>\n",
       "    <tr>\n",
       "      <th>162585</th>\n",
       "      <td>1</td>\n",
       "      <td>5208.0</td>\n",
       "      <td>Short Term</td>\n",
       "      <td>727.755332</td>\n",
       "      <td>8.0</td>\n",
       "      <td>Home Mortgage</td>\n",
       "      <td>41262.439830</td>\n",
       "      <td>Debt Consolidation</td>\n",
       "      <td>468.70</td>\n",
       "      <td>13.0</td>\n",
       "      <td>39.583063</td>\n",
       "      <td>6</td>\n",
       "      <td>0</td>\n",
       "      <td>4214</td>\n",
       "      <td>5308.0</td>\n",
       "      <td>0.0</td>\n",
       "      <td>0.0</td>\n",
       "    </tr>\n",
       "    <tr>\n",
       "      <th>222061</th>\n",
       "      <td>1</td>\n",
       "      <td>11764.0</td>\n",
       "      <td>Long Term</td>\n",
       "      <td>728.423280</td>\n",
       "      <td>5.0</td>\n",
       "      <td>Rent</td>\n",
       "      <td>49535.980698</td>\n",
       "      <td>Debt Consolidation</td>\n",
       "      <td>602.88</td>\n",
       "      <td>14.0</td>\n",
       "      <td>82.000000</td>\n",
       "      <td>8</td>\n",
       "      <td>0</td>\n",
       "      <td>17782</td>\n",
       "      <td>26780.0</td>\n",
       "      <td>0.0</td>\n",
       "      <td>0.0</td>\n",
       "    </tr>\n",
       "    <tr>\n",
       "      <th>12872</th>\n",
       "      <td>1</td>\n",
       "      <td>14223.0</td>\n",
       "      <td>Long Term</td>\n",
       "      <td>726.000000</td>\n",
       "      <td>10.0</td>\n",
       "      <td>Own Home</td>\n",
       "      <td>50795.000000</td>\n",
       "      <td>Debt Consolidation</td>\n",
       "      <td>1054.00</td>\n",
       "      <td>17.8</td>\n",
       "      <td>35.529075</td>\n",
       "      <td>8</td>\n",
       "      <td>0</td>\n",
       "      <td>14227</td>\n",
       "      <td>28228.0</td>\n",
       "      <td>0.0</td>\n",
       "      <td>0.0</td>\n",
       "    </tr>\n",
       "    <tr>\n",
       "      <th>173347</th>\n",
       "      <td>1</td>\n",
       "      <td>21107.0</td>\n",
       "      <td>Short Term</td>\n",
       "      <td>712.000000</td>\n",
       "      <td>3.0</td>\n",
       "      <td>Home Mortgage</td>\n",
       "      <td>99505.000000</td>\n",
       "      <td>Debt Consolidation</td>\n",
       "      <td>1567.20</td>\n",
       "      <td>30.2</td>\n",
       "      <td>33.341830</td>\n",
       "      <td>22</td>\n",
       "      <td>0</td>\n",
       "      <td>37445</td>\n",
       "      <td>71872.0</td>\n",
       "      <td>0.0</td>\n",
       "      <td>0.0</td>\n",
       "    </tr>\n",
       "  </tbody>\n",
       "</table>\n",
       "</div>"
      ],
      "text/plain": [
       "        Loan Status  Current Loan Amount        Term  Credit Score  \\\n",
       "216677            0              19550.0  Short Term    717.856436   \n",
       "162585            1               5208.0  Short Term    727.755332   \n",
       "222061            1              11764.0   Long Term    728.423280   \n",
       "12872             1              14223.0   Long Term    726.000000   \n",
       "173347            1              21107.0  Short Term    712.000000   \n",
       "\n",
       "        Years in current job Home Ownership  Annual Income  \\\n",
       "216677                   2.0  Home Mortgage   87885.208095   \n",
       "162585                   8.0  Home Mortgage   41262.439830   \n",
       "222061                   5.0           Rent   49535.980698   \n",
       "12872                   10.0       Own Home   50795.000000   \n",
       "173347                   3.0  Home Mortgage   99505.000000   \n",
       "\n",
       "                   Purpose  Monthly Debt  Years of Credit History  \\\n",
       "216677  Debt Consolidation       1645.46                     15.3   \n",
       "162585  Debt Consolidation        468.70                     13.0   \n",
       "222061  Debt Consolidation        602.88                     14.0   \n",
       "12872   Debt Consolidation       1054.00                     17.8   \n",
       "173347  Debt Consolidation       1567.20                     30.2   \n",
       "\n",
       "        Months since last delinquent  Number of Open Accounts  \\\n",
       "216677                     37.308909                       13   \n",
       "162585                     39.583063                        6   \n",
       "222061                     82.000000                        8   \n",
       "12872                      35.529075                        8   \n",
       "173347                     33.341830                       22   \n",
       "\n",
       "        Number of Credit Problems  Current Credit Balance  \\\n",
       "216677                          0                   22977   \n",
       "162585                          0                    4214   \n",
       "222061                          0                   17782   \n",
       "12872                           0                   14227   \n",
       "173347                          0                   37445   \n",
       "\n",
       "        Maximum Open Credit  Bankruptcies  Tax Liens  \n",
       "216677              56179.0           0.0        0.0  \n",
       "162585               5308.0           0.0        0.0  \n",
       "222061              26780.0           0.0        0.0  \n",
       "12872               28228.0           0.0        0.0  \n",
       "173347              71872.0           0.0        0.0  "
      ]
     },
     "execution_count": 68,
     "metadata": {},
     "output_type": "execute_result"
    }
   ],
   "source": [
    "df.sample(5)"
   ]
  },
  {
   "cell_type": "code",
   "execution_count": 69,
   "id": "02055a55",
   "metadata": {},
   "outputs": [
    {
     "data": {
      "text/plain": [
       "1    176191\n",
       "0     39509\n",
       "Name: Loan Status, dtype: int64"
      ]
     },
     "execution_count": 69,
     "metadata": {},
     "output_type": "execute_result"
    }
   ],
   "source": [
    "df['Loan Status'].value_counts()"
   ]
  },
  {
   "cell_type": "code",
   "execution_count": 70,
   "id": "a2e02893",
   "metadata": {},
   "outputs": [
    {
     "data": {
      "text/plain": [
       "(215700, 17)"
      ]
     },
     "execution_count": 70,
     "metadata": {},
     "output_type": "execute_result"
    }
   ],
   "source": [
    "df.shape"
   ]
  },
  {
   "cell_type": "code",
   "execution_count": 102,
   "id": "2a440acd",
   "metadata": {},
   "outputs": [],
   "source": [
    "from sklearn.model_selection import train_test_split\n",
    "from sklearn.metrics import accuracy_score, precision_score,recall_score,f1_score,confusion_matrix,classification_report\n",
    "from sklearn.naive_bayes import GaussianNB\n",
    "from sklearn.naive_bayes import BernoulliNB\n",
    "g=GaussianNB()\n",
    "b=BernoulliNB()"
   ]
  },
  {
   "cell_type": "code",
   "execution_count": 103,
   "id": "bbc463f1",
   "metadata": {},
   "outputs": [],
   "source": [
    "df=pd.get_dummies(df,drop_first=True)\n",
    "X = df.drop([\"Loan Status\"],axis=1)\n",
    "y = df[\"Loan Status\"]"
   ]
  },
  {
   "cell_type": "code",
   "execution_count": 104,
   "id": "99fb5788",
   "metadata": {},
   "outputs": [],
   "source": [
    "X_train,X_test,y_train,y_test=train_test_split(X,y, test_size=.20, random_state=42)\n"
   ]
  },
  {
   "cell_type": "code",
   "execution_count": 105,
   "id": "721c624a",
   "metadata": {},
   "outputs": [
    {
     "data": {
      "text/html": [
       "<style>#sk-container-id-6 {color: black;background-color: white;}#sk-container-id-6 pre{padding: 0;}#sk-container-id-6 div.sk-toggleable {background-color: white;}#sk-container-id-6 label.sk-toggleable__label {cursor: pointer;display: block;width: 100%;margin-bottom: 0;padding: 0.3em;box-sizing: border-box;text-align: center;}#sk-container-id-6 label.sk-toggleable__label-arrow:before {content: \"▸\";float: left;margin-right: 0.25em;color: #696969;}#sk-container-id-6 label.sk-toggleable__label-arrow:hover:before {color: black;}#sk-container-id-6 div.sk-estimator:hover label.sk-toggleable__label-arrow:before {color: black;}#sk-container-id-6 div.sk-toggleable__content {max-height: 0;max-width: 0;overflow: hidden;text-align: left;background-color: #f0f8ff;}#sk-container-id-6 div.sk-toggleable__content pre {margin: 0.2em;color: black;border-radius: 0.25em;background-color: #f0f8ff;}#sk-container-id-6 input.sk-toggleable__control:checked~div.sk-toggleable__content {max-height: 200px;max-width: 100%;overflow: auto;}#sk-container-id-6 input.sk-toggleable__control:checked~label.sk-toggleable__label-arrow:before {content: \"▾\";}#sk-container-id-6 div.sk-estimator input.sk-toggleable__control:checked~label.sk-toggleable__label {background-color: #d4ebff;}#sk-container-id-6 div.sk-label input.sk-toggleable__control:checked~label.sk-toggleable__label {background-color: #d4ebff;}#sk-container-id-6 input.sk-hidden--visually {border: 0;clip: rect(1px 1px 1px 1px);clip: rect(1px, 1px, 1px, 1px);height: 1px;margin: -1px;overflow: hidden;padding: 0;position: absolute;width: 1px;}#sk-container-id-6 div.sk-estimator {font-family: monospace;background-color: #f0f8ff;border: 1px dotted black;border-radius: 0.25em;box-sizing: border-box;margin-bottom: 0.5em;}#sk-container-id-6 div.sk-estimator:hover {background-color: #d4ebff;}#sk-container-id-6 div.sk-parallel-item::after {content: \"\";width: 100%;border-bottom: 1px solid gray;flex-grow: 1;}#sk-container-id-6 div.sk-label:hover label.sk-toggleable__label {background-color: #d4ebff;}#sk-container-id-6 div.sk-serial::before {content: \"\";position: absolute;border-left: 1px solid gray;box-sizing: border-box;top: 0;bottom: 0;left: 50%;z-index: 0;}#sk-container-id-6 div.sk-serial {display: flex;flex-direction: column;align-items: center;background-color: white;padding-right: 0.2em;padding-left: 0.2em;position: relative;}#sk-container-id-6 div.sk-item {position: relative;z-index: 1;}#sk-container-id-6 div.sk-parallel {display: flex;align-items: stretch;justify-content: center;background-color: white;position: relative;}#sk-container-id-6 div.sk-item::before, #sk-container-id-6 div.sk-parallel-item::before {content: \"\";position: absolute;border-left: 1px solid gray;box-sizing: border-box;top: 0;bottom: 0;left: 50%;z-index: -1;}#sk-container-id-6 div.sk-parallel-item {display: flex;flex-direction: column;z-index: 1;position: relative;background-color: white;}#sk-container-id-6 div.sk-parallel-item:first-child::after {align-self: flex-end;width: 50%;}#sk-container-id-6 div.sk-parallel-item:last-child::after {align-self: flex-start;width: 50%;}#sk-container-id-6 div.sk-parallel-item:only-child::after {width: 0;}#sk-container-id-6 div.sk-dashed-wrapped {border: 1px dashed gray;margin: 0 0.4em 0.5em 0.4em;box-sizing: border-box;padding-bottom: 0.4em;background-color: white;}#sk-container-id-6 div.sk-label label {font-family: monospace;font-weight: bold;display: inline-block;line-height: 1.2em;}#sk-container-id-6 div.sk-label-container {text-align: center;}#sk-container-id-6 div.sk-container {/* jupyter's `normalize.less` sets `[hidden] { display: none; }` but bootstrap.min.css set `[hidden] { display: none !important; }` so we also need the `!important` here to be able to override the default hidden behavior on the sphinx rendered scikit-learn.org. See: https://github.com/scikit-learn/scikit-learn/issues/21755 */display: inline-block !important;position: relative;}#sk-container-id-6 div.sk-text-repr-fallback {display: none;}</style><div id=\"sk-container-id-6\" class=\"sk-top-container\"><div class=\"sk-text-repr-fallback\"><pre>GaussianNB(priors=None, var_smoothing=1e-09)</pre><b>In a Jupyter environment, please rerun this cell to show the HTML representation or trust the notebook. <br />On GitHub, the HTML representation is unable to render, please try loading this page with nbviewer.org.</b></div><div class=\"sk-container\" hidden><div class=\"sk-item\"><div class=\"sk-estimator sk-toggleable\"><input class=\"sk-toggleable__control sk-hidden--visually\" id=\"sk-estimator-id-6\" type=\"checkbox\" checked><label for=\"sk-estimator-id-6\" class=\"sk-toggleable__label sk-toggleable__label-arrow\">GaussianNB</label><div class=\"sk-toggleable__content\"><pre>GaussianNB(priors=None, var_smoothing=1e-09)</pre></div></div></div></div></div>"
      ],
      "text/plain": [
       "GaussianNB(priors=None, var_smoothing=1e-09)"
      ]
     },
     "execution_count": 105,
     "metadata": {},
     "output_type": "execute_result"
    }
   ],
   "source": [
    "g.fit(X,y)"
   ]
  },
  {
   "cell_type": "code",
   "execution_count": 106,
   "id": "0633213b",
   "metadata": {},
   "outputs": [
    {
     "data": {
      "text/html": [
       "<style>#sk-container-id-7 {color: black;background-color: white;}#sk-container-id-7 pre{padding: 0;}#sk-container-id-7 div.sk-toggleable {background-color: white;}#sk-container-id-7 label.sk-toggleable__label {cursor: pointer;display: block;width: 100%;margin-bottom: 0;padding: 0.3em;box-sizing: border-box;text-align: center;}#sk-container-id-7 label.sk-toggleable__label-arrow:before {content: \"▸\";float: left;margin-right: 0.25em;color: #696969;}#sk-container-id-7 label.sk-toggleable__label-arrow:hover:before {color: black;}#sk-container-id-7 div.sk-estimator:hover label.sk-toggleable__label-arrow:before {color: black;}#sk-container-id-7 div.sk-toggleable__content {max-height: 0;max-width: 0;overflow: hidden;text-align: left;background-color: #f0f8ff;}#sk-container-id-7 div.sk-toggleable__content pre {margin: 0.2em;color: black;border-radius: 0.25em;background-color: #f0f8ff;}#sk-container-id-7 input.sk-toggleable__control:checked~div.sk-toggleable__content {max-height: 200px;max-width: 100%;overflow: auto;}#sk-container-id-7 input.sk-toggleable__control:checked~label.sk-toggleable__label-arrow:before {content: \"▾\";}#sk-container-id-7 div.sk-estimator input.sk-toggleable__control:checked~label.sk-toggleable__label {background-color: #d4ebff;}#sk-container-id-7 div.sk-label input.sk-toggleable__control:checked~label.sk-toggleable__label {background-color: #d4ebff;}#sk-container-id-7 input.sk-hidden--visually {border: 0;clip: rect(1px 1px 1px 1px);clip: rect(1px, 1px, 1px, 1px);height: 1px;margin: -1px;overflow: hidden;padding: 0;position: absolute;width: 1px;}#sk-container-id-7 div.sk-estimator {font-family: monospace;background-color: #f0f8ff;border: 1px dotted black;border-radius: 0.25em;box-sizing: border-box;margin-bottom: 0.5em;}#sk-container-id-7 div.sk-estimator:hover {background-color: #d4ebff;}#sk-container-id-7 div.sk-parallel-item::after {content: \"\";width: 100%;border-bottom: 1px solid gray;flex-grow: 1;}#sk-container-id-7 div.sk-label:hover label.sk-toggleable__label {background-color: #d4ebff;}#sk-container-id-7 div.sk-serial::before {content: \"\";position: absolute;border-left: 1px solid gray;box-sizing: border-box;top: 0;bottom: 0;left: 50%;z-index: 0;}#sk-container-id-7 div.sk-serial {display: flex;flex-direction: column;align-items: center;background-color: white;padding-right: 0.2em;padding-left: 0.2em;position: relative;}#sk-container-id-7 div.sk-item {position: relative;z-index: 1;}#sk-container-id-7 div.sk-parallel {display: flex;align-items: stretch;justify-content: center;background-color: white;position: relative;}#sk-container-id-7 div.sk-item::before, #sk-container-id-7 div.sk-parallel-item::before {content: \"\";position: absolute;border-left: 1px solid gray;box-sizing: border-box;top: 0;bottom: 0;left: 50%;z-index: -1;}#sk-container-id-7 div.sk-parallel-item {display: flex;flex-direction: column;z-index: 1;position: relative;background-color: white;}#sk-container-id-7 div.sk-parallel-item:first-child::after {align-self: flex-end;width: 50%;}#sk-container-id-7 div.sk-parallel-item:last-child::after {align-self: flex-start;width: 50%;}#sk-container-id-7 div.sk-parallel-item:only-child::after {width: 0;}#sk-container-id-7 div.sk-dashed-wrapped {border: 1px dashed gray;margin: 0 0.4em 0.5em 0.4em;box-sizing: border-box;padding-bottom: 0.4em;background-color: white;}#sk-container-id-7 div.sk-label label {font-family: monospace;font-weight: bold;display: inline-block;line-height: 1.2em;}#sk-container-id-7 div.sk-label-container {text-align: center;}#sk-container-id-7 div.sk-container {/* jupyter's `normalize.less` sets `[hidden] { display: none; }` but bootstrap.min.css set `[hidden] { display: none !important; }` so we also need the `!important` here to be able to override the default hidden behavior on the sphinx rendered scikit-learn.org. See: https://github.com/scikit-learn/scikit-learn/issues/21755 */display: inline-block !important;position: relative;}#sk-container-id-7 div.sk-text-repr-fallback {display: none;}</style><div id=\"sk-container-id-7\" class=\"sk-top-container\"><div class=\"sk-text-repr-fallback\"><pre>BernoulliNB(alpha=1.0, binarize=0.0, class_prior=None, fit_prior=True)</pre><b>In a Jupyter environment, please rerun this cell to show the HTML representation or trust the notebook. <br />On GitHub, the HTML representation is unable to render, please try loading this page with nbviewer.org.</b></div><div class=\"sk-container\" hidden><div class=\"sk-item\"><div class=\"sk-estimator sk-toggleable\"><input class=\"sk-toggleable__control sk-hidden--visually\" id=\"sk-estimator-id-7\" type=\"checkbox\" checked><label for=\"sk-estimator-id-7\" class=\"sk-toggleable__label sk-toggleable__label-arrow\">BernoulliNB</label><div class=\"sk-toggleable__content\"><pre>BernoulliNB(alpha=1.0, binarize=0.0, class_prior=None, fit_prior=True)</pre></div></div></div></div></div>"
      ],
      "text/plain": [
       "BernoulliNB(alpha=1.0, binarize=0.0, class_prior=None, fit_prior=True)"
      ]
     },
     "execution_count": 106,
     "metadata": {},
     "output_type": "execute_result"
    }
   ],
   "source": [
    "b.fit(X,y)"
   ]
  },
  {
   "cell_type": "code",
   "execution_count": 108,
   "id": "16cc8e0b",
   "metadata": {},
   "outputs": [],
   "source": [
    "tahmin1=g.predict(X)\n",
    "tahmin2=b.predict(X)"
   ]
  },
  {
   "cell_type": "code",
   "execution_count": 109,
   "id": "716b9215",
   "metadata": {},
   "outputs": [
    {
     "data": {
      "text/plain": [
       "0.7533889661566991"
      ]
     },
     "execution_count": 109,
     "metadata": {},
     "output_type": "execute_result"
    }
   ],
   "source": [
    "accuracy_score(tahmin1,y)"
   ]
  },
  {
   "cell_type": "code",
   "execution_count": 110,
   "id": "88deb576",
   "metadata": {},
   "outputs": [
    {
     "data": {
      "text/plain": [
       "0.8168382012053779"
      ]
     },
     "execution_count": 110,
     "metadata": {},
     "output_type": "execute_result"
    }
   ],
   "source": [
    "accuracy_score(tahmin2,y)"
   ]
  },
  {
   "cell_type": "code",
   "execution_count": 111,
   "id": "b1302d97",
   "metadata": {},
   "outputs": [
    {
     "data": {
      "text/plain": [
       "1.0"
      ]
     },
     "execution_count": 111,
     "metadata": {},
     "output_type": "execute_result"
    }
   ],
   "source": [
    "precision_score(tahmin2,y)"
   ]
  },
  {
   "cell_type": "code",
   "execution_count": 112,
   "id": "83c1b1ee",
   "metadata": {},
   "outputs": [
    {
     "data": {
      "text/plain": [
       "0.838523232067464"
      ]
     },
     "execution_count": 112,
     "metadata": {},
     "output_type": "execute_result"
    }
   ],
   "source": [
    "recall_score(tahmin1,y)"
   ]
  },
  {
   "cell_type": "code",
   "execution_count": 113,
   "id": "c846ca11",
   "metadata": {},
   "outputs": [
    {
     "data": {
      "text/plain": [
       "0.8168373520507745"
      ]
     },
     "execution_count": 113,
     "metadata": {},
     "output_type": "execute_result"
    }
   ],
   "source": [
    "recall_score(tahmin2,y)"
   ]
  },
  {
   "cell_type": "code",
   "execution_count": 114,
   "id": "b1aefdc6",
   "metadata": {},
   "outputs": [
    {
     "data": {
      "text/plain": [
       "array([[ 10174,  23859],\n",
       "       [ 29335, 152332]], dtype=int64)"
      ]
     },
     "execution_count": 114,
     "metadata": {},
     "output_type": "execute_result"
    }
   ],
   "source": [
    "confusion_matrix(tahmin1,y)"
   ]
  },
  {
   "cell_type": "code",
   "execution_count": 115,
   "id": "a98ad6c1",
   "metadata": {},
   "outputs": [
    {
     "data": {
      "text/plain": [
       "array([[     1,      0],\n",
       "       [ 39508, 176191]], dtype=int64)"
      ]
     },
     "execution_count": 115,
     "metadata": {},
     "output_type": "execute_result"
    }
   ],
   "source": [
    "confusion_matrix(tahmin2,y)     "
   ]
  },
  {
   "cell_type": "code",
   "execution_count": 116,
   "id": "954fda92",
   "metadata": {},
   "outputs": [
    {
     "name": "stdout",
     "output_type": "stream",
     "text": [
      "              precision    recall  f1-score   support\n",
      "\n",
      "           0       0.26      0.30      0.28     34033\n",
      "           1       0.86      0.84      0.85    181667\n",
      "\n",
      "    accuracy                           0.75    215700\n",
      "   macro avg       0.56      0.57      0.56    215700\n",
      "weighted avg       0.77      0.75      0.76    215700\n",
      "\n"
     ]
    }
   ],
   "source": [
    "print(classification_report(tahmin1,y))"
   ]
  },
  {
   "cell_type": "code",
   "execution_count": 117,
   "id": "45ba0263",
   "metadata": {},
   "outputs": [
    {
     "name": "stdout",
     "output_type": "stream",
     "text": [
      "              precision    recall  f1-score   support\n",
      "\n",
      "           0       0.00      1.00      0.00         1\n",
      "           1       1.00      0.82      0.90    215699\n",
      "\n",
      "    accuracy                           0.82    215700\n",
      "   macro avg       0.50      0.91      0.45    215700\n",
      "weighted avg       1.00      0.82      0.90    215700\n",
      "\n"
     ]
    }
   ],
   "source": [
    "print(classification_report(tahmin2,y))"
   ]
  },
  {
   "cell_type": "code",
   "execution_count": 120,
   "id": "5ceea5a1",
   "metadata": {},
   "outputs": [],
   "source": [
    "from pycaret.classification import *"
   ]
  },
  {
   "cell_type": "code",
   "execution_count": 118,
   "id": "bfe9325d",
   "metadata": {
    "scrolled": false
   },
   "outputs": [],
   "source": [
    "#exp_name = setup(data=df,target=\"Loan Status\")\n",
    "#best_model = compare_models()"
   ]
  },
  {
   "cell_type": "code",
   "execution_count": 121,
   "id": "de029eda",
   "metadata": {},
   "outputs": [],
   "source": [
    "from sklearn.ensemble import GradientBoostingClassifier\n",
    "h=GradientBoostingClassifier()"
   ]
  },
  {
   "cell_type": "code",
   "execution_count": 123,
   "id": "3ce00ef0",
   "metadata": {},
   "outputs": [
    {
     "data": {
      "text/html": [
       "<style>#sk-container-id-8 {color: black;background-color: white;}#sk-container-id-8 pre{padding: 0;}#sk-container-id-8 div.sk-toggleable {background-color: white;}#sk-container-id-8 label.sk-toggleable__label {cursor: pointer;display: block;width: 100%;margin-bottom: 0;padding: 0.3em;box-sizing: border-box;text-align: center;}#sk-container-id-8 label.sk-toggleable__label-arrow:before {content: \"▸\";float: left;margin-right: 0.25em;color: #696969;}#sk-container-id-8 label.sk-toggleable__label-arrow:hover:before {color: black;}#sk-container-id-8 div.sk-estimator:hover label.sk-toggleable__label-arrow:before {color: black;}#sk-container-id-8 div.sk-toggleable__content {max-height: 0;max-width: 0;overflow: hidden;text-align: left;background-color: #f0f8ff;}#sk-container-id-8 div.sk-toggleable__content pre {margin: 0.2em;color: black;border-radius: 0.25em;background-color: #f0f8ff;}#sk-container-id-8 input.sk-toggleable__control:checked~div.sk-toggleable__content {max-height: 200px;max-width: 100%;overflow: auto;}#sk-container-id-8 input.sk-toggleable__control:checked~label.sk-toggleable__label-arrow:before {content: \"▾\";}#sk-container-id-8 div.sk-estimator input.sk-toggleable__control:checked~label.sk-toggleable__label {background-color: #d4ebff;}#sk-container-id-8 div.sk-label input.sk-toggleable__control:checked~label.sk-toggleable__label {background-color: #d4ebff;}#sk-container-id-8 input.sk-hidden--visually {border: 0;clip: rect(1px 1px 1px 1px);clip: rect(1px, 1px, 1px, 1px);height: 1px;margin: -1px;overflow: hidden;padding: 0;position: absolute;width: 1px;}#sk-container-id-8 div.sk-estimator {font-family: monospace;background-color: #f0f8ff;border: 1px dotted black;border-radius: 0.25em;box-sizing: border-box;margin-bottom: 0.5em;}#sk-container-id-8 div.sk-estimator:hover {background-color: #d4ebff;}#sk-container-id-8 div.sk-parallel-item::after {content: \"\";width: 100%;border-bottom: 1px solid gray;flex-grow: 1;}#sk-container-id-8 div.sk-label:hover label.sk-toggleable__label {background-color: #d4ebff;}#sk-container-id-8 div.sk-serial::before {content: \"\";position: absolute;border-left: 1px solid gray;box-sizing: border-box;top: 0;bottom: 0;left: 50%;z-index: 0;}#sk-container-id-8 div.sk-serial {display: flex;flex-direction: column;align-items: center;background-color: white;padding-right: 0.2em;padding-left: 0.2em;position: relative;}#sk-container-id-8 div.sk-item {position: relative;z-index: 1;}#sk-container-id-8 div.sk-parallel {display: flex;align-items: stretch;justify-content: center;background-color: white;position: relative;}#sk-container-id-8 div.sk-item::before, #sk-container-id-8 div.sk-parallel-item::before {content: \"\";position: absolute;border-left: 1px solid gray;box-sizing: border-box;top: 0;bottom: 0;left: 50%;z-index: -1;}#sk-container-id-8 div.sk-parallel-item {display: flex;flex-direction: column;z-index: 1;position: relative;background-color: white;}#sk-container-id-8 div.sk-parallel-item:first-child::after {align-self: flex-end;width: 50%;}#sk-container-id-8 div.sk-parallel-item:last-child::after {align-self: flex-start;width: 50%;}#sk-container-id-8 div.sk-parallel-item:only-child::after {width: 0;}#sk-container-id-8 div.sk-dashed-wrapped {border: 1px dashed gray;margin: 0 0.4em 0.5em 0.4em;box-sizing: border-box;padding-bottom: 0.4em;background-color: white;}#sk-container-id-8 div.sk-label label {font-family: monospace;font-weight: bold;display: inline-block;line-height: 1.2em;}#sk-container-id-8 div.sk-label-container {text-align: center;}#sk-container-id-8 div.sk-container {/* jupyter's `normalize.less` sets `[hidden] { display: none; }` but bootstrap.min.css set `[hidden] { display: none !important; }` so we also need the `!important` here to be able to override the default hidden behavior on the sphinx rendered scikit-learn.org. See: https://github.com/scikit-learn/scikit-learn/issues/21755 */display: inline-block !important;position: relative;}#sk-container-id-8 div.sk-text-repr-fallback {display: none;}</style><div id=\"sk-container-id-8\" class=\"sk-top-container\"><div class=\"sk-text-repr-fallback\"><pre>GradientBoostingClassifier(ccp_alpha=0.0, criterion=&#x27;friedman_mse&#x27;, init=None,\n",
       "                           learning_rate=0.1, loss=&#x27;log_loss&#x27;, max_depth=3,\n",
       "                           max_features=None, max_leaf_nodes=None,\n",
       "                           min_impurity_decrease=0.0, min_samples_leaf=1,\n",
       "                           min_samples_split=2, min_weight_fraction_leaf=0.0,\n",
       "                           n_estimators=100, n_iter_no_change=None,\n",
       "                           random_state=None, subsample=1.0, tol=0.0001,\n",
       "                           validation_fraction=0.1, verbose=0,\n",
       "                           warm_start=False)</pre><b>In a Jupyter environment, please rerun this cell to show the HTML representation or trust the notebook. <br />On GitHub, the HTML representation is unable to render, please try loading this page with nbviewer.org.</b></div><div class=\"sk-container\" hidden><div class=\"sk-item\"><div class=\"sk-estimator sk-toggleable\"><input class=\"sk-toggleable__control sk-hidden--visually\" id=\"sk-estimator-id-8\" type=\"checkbox\" checked><label for=\"sk-estimator-id-8\" class=\"sk-toggleable__label sk-toggleable__label-arrow\">GradientBoostingClassifier</label><div class=\"sk-toggleable__content\"><pre>GradientBoostingClassifier(ccp_alpha=0.0, criterion=&#x27;friedman_mse&#x27;, init=None,\n",
       "                           learning_rate=0.1, loss=&#x27;log_loss&#x27;, max_depth=3,\n",
       "                           max_features=None, max_leaf_nodes=None,\n",
       "                           min_impurity_decrease=0.0, min_samples_leaf=1,\n",
       "                           min_samples_split=2, min_weight_fraction_leaf=0.0,\n",
       "                           n_estimators=100, n_iter_no_change=None,\n",
       "                           random_state=None, subsample=1.0, tol=0.0001,\n",
       "                           validation_fraction=0.1, verbose=0,\n",
       "                           warm_start=False)</pre></div></div></div></div></div>"
      ],
      "text/plain": [
       "GradientBoostingClassifier(ccp_alpha=0.0, criterion='friedman_mse', init=None,\n",
       "                           learning_rate=0.1, loss='log_loss', max_depth=3,\n",
       "                           max_features=None, max_leaf_nodes=None,\n",
       "                           min_impurity_decrease=0.0, min_samples_leaf=1,\n",
       "                           min_samples_split=2, min_weight_fraction_leaf=0.0,\n",
       "                           n_estimators=100, n_iter_no_change=None,\n",
       "                           random_state=None, subsample=1.0, tol=0.0001,\n",
       "                           validation_fraction=0.1, verbose=0,\n",
       "                           warm_start=False)"
      ]
     },
     "execution_count": 123,
     "metadata": {},
     "output_type": "execute_result"
    }
   ],
   "source": [
    "h.fit(X,y)"
   ]
  },
  {
   "cell_type": "code",
   "execution_count": 125,
   "id": "27325473",
   "metadata": {},
   "outputs": [],
   "source": [
    "tahmin3=h.predict(X)"
   ]
  },
  {
   "cell_type": "code",
   "execution_count": 128,
   "id": "b17ba035",
   "metadata": {},
   "outputs": [
    {
     "data": {
      "text/plain": [
       "0.8185581826611034"
      ]
     },
     "execution_count": 128,
     "metadata": {},
     "output_type": "execute_result"
    }
   ],
   "source": [
    "accuracy_score(tahmin3,y)"
   ]
  },
  {
   "cell_type": "code",
   "execution_count": 129,
   "id": "68ab768c",
   "metadata": {},
   "outputs": [
    {
     "data": {
      "text/plain": [
       "0.8216535396111638"
      ]
     },
     "execution_count": 129,
     "metadata": {},
     "output_type": "execute_result"
    }
   ],
   "source": [
    "recall_score(tahmin3,y)"
   ]
  },
  {
   "cell_type": "code",
   "execution_count": 126,
   "id": "a8257632",
   "metadata": {},
   "outputs": [
    {
     "data": {
      "text/plain": [
       "array([[  1513,   1141],\n",
       "       [ 37996, 175050]], dtype=int64)"
      ]
     },
     "execution_count": 126,
     "metadata": {},
     "output_type": "execute_result"
    }
   ],
   "source": [
    "confusion_matrix(tahmin3,y)"
   ]
  },
  {
   "cell_type": "code",
   "execution_count": 127,
   "id": "14eafd99",
   "metadata": {},
   "outputs": [
    {
     "data": {
      "text/plain": [
       "array([[  1513,   1141],\n",
       "       [ 37996, 175050]], dtype=int64)"
      ]
     },
     "execution_count": 127,
     "metadata": {},
     "output_type": "execute_result"
    }
   ],
   "source": [
    "confusion_matrix(tahmin3,y)"
   ]
  },
  {
   "cell_type": "markdown",
   "id": "a958f63c",
   "metadata": {},
   "source": [
    "### en fazla ulaşabildiğim başarı: 0.83"
   ]
  },
  {
   "cell_type": "code",
   "execution_count": null,
   "id": "1a091fc3",
   "metadata": {},
   "outputs": [],
   "source": []
  }
 ],
 "metadata": {
  "kernelspec": {
   "display_name": "Python 3 (ipykernel)",
   "language": "python",
   "name": "python3"
  },
  "language_info": {
   "codemirror_mode": {
    "name": "ipython",
    "version": 3
   },
   "file_extension": ".py",
   "mimetype": "text/x-python",
   "name": "python",
   "nbconvert_exporter": "python",
   "pygments_lexer": "ipython3",
   "version": "3.9.12"
  }
 },
 "nbformat": 4,
 "nbformat_minor": 5
}
